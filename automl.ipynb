{
 "cells": [
  {
   "cell_type": "markdown",
   "metadata": {},
   "source": [
    "# Automated ML\n",
    "\n",
    "Importing all needed dependencies to complete the project."
   ]
  },
  {
   "cell_type": "code",
   "execution_count": 36,
   "metadata": {
    "gather": {
     "logged": 1612018493821
    },
    "jupyter": {
     "outputs_hidden": false,
     "source_hidden": false
    },
    "nteract": {
     "transient": {
      "deleting": false
     }
    }
   },
   "outputs": [
    {
     "name": "stdout",
     "output_type": "stream",
     "text": [
      "SDK version: 1.47.0\n"
     ]
    }
   ],
   "source": [
    "import logging\n",
    "import os\n",
    "import json\n",
    "import csv\n",
    "import numpy as np\n",
    "import pandas as pd\n",
    "import pkg_resources\n",
    "import joblib\n",
    "\n",
    "import azureml.core\n",
    "from azureml.core.experiment import Experiment\n",
    "from azureml.core.workspace import Workspace\n",
    "from azureml.train.automl import AutoMLConfig\n",
    "from azureml.core.dataset import Dataset\n",
    "from azureml.core.compute import AmlCompute\n",
    "from azureml.core.compute import ComputeTarget\n",
    "from azureml.core.compute_target import ComputeTargetException\n",
    "from azureml.pipeline.steps import AutoMLStep\n",
    "from azureml.widgets import RunDetails\n",
    "from azureml.core import Model, Environment\n",
    "from azureml.core.model import InferenceConfig\n",
    "from azureml.core.webservice import AciWebservice\n",
    "from sklearn.preprocessing import StandardScaler\n",
    "\n",
    "# Check core SDK version number\n",
    "print(\"SDK version:\", azureml.core.VERSION)"
   ]
  },
  {
   "cell_type": "markdown",
   "metadata": {},
   "source": [
    "## Dataset\n",
    "\n",
    "### Overview\n",
    "This dataset comes from the Diabetes and Digestive and Kidney Disease National Institutes. The purpose of this dataset is to diagnose whether or not a patient is diabetic, on the basis of certain diagnostic measures in the dataset. The selection of these instances from a larger database was subject to several restrictions. All patients are women from the Indian heritage of Pima, at least 21 years old. \n",
    "https://www.kaggle.com/uciml/pima-indians-diabetes-database\n",
    "\n",
    "Task\n",
    "Predict the \"Outcome\" column based on the input features, either the patient has diabetes or not.\n"
   ]
  },
  {
   "cell_type": "code",
   "execution_count": 37,
   "metadata": {
    "gather": {
     "logged": 1598423890461
    },
    "jupyter": {
     "outputs_hidden": false,
     "source_hidden": false
    },
    "nteract": {
     "transient": {
      "deleting": false
     }
    }
   },
   "outputs": [],
   "source": [
    "ws = Workspace.from_config()\n",
    "\n",
    "# choose a name for experiment\n",
    "experiment_name = 'automl'\n",
    "\n",
    "experiment=Experiment(ws, experiment_name)"
   ]
  },
  {
   "cell_type": "code",
   "execution_count": 38,
   "metadata": {},
   "outputs": [
    {
     "name": "stdout",
     "output_type": "stream",
     "text": [
      "<class 'pandas.core.frame.DataFrame'>\n",
      "RangeIndex: 768 entries, 0 to 767\n",
      "Data columns (total 9 columns):\n",
      " #   Column                    Non-Null Count  Dtype  \n",
      "---  ------                    --------------  -----  \n",
      " 0   Pregnancies               768 non-null    int64  \n",
      " 1   Glucose                   768 non-null    int64  \n",
      " 2   BloodPressure             768 non-null    int64  \n",
      " 3   SkinThickness             768 non-null    int64  \n",
      " 4   Insulin                   768 non-null    int64  \n",
      " 5   BMI                       768 non-null    float64\n",
      " 6   DiabetesPedigreeFunction  768 non-null    float64\n",
      " 7   Age                       768 non-null    int64  \n",
      " 8   Outcome                   768 non-null    int64  \n",
      "dtypes: float64(2), int64(7)\n",
      "memory usage: 54.1 KB\n"
     ]
    }
   ],
   "source": [
    "# Load the registered dataset from workspace\n",
    "dataset = Dataset.get_by_name(ws, name='diabetes')\n",
    "\n",
    "# Convert the dataset to dataframe\n",
    "df = dataset.to_pandas_dataframe()\n",
    "df.info()"
   ]
  },
  {
   "cell_type": "code",
   "execution_count": 39,
   "metadata": {},
   "outputs": [
    {
     "data": {
      "text/html": [
       "<div>\n",
       "<style scoped>\n",
       "    .dataframe tbody tr th:only-of-type {\n",
       "        vertical-align: middle;\n",
       "    }\n",
       "\n",
       "    .dataframe tbody tr th {\n",
       "        vertical-align: top;\n",
       "    }\n",
       "\n",
       "    .dataframe thead th {\n",
       "        text-align: right;\n",
       "    }\n",
       "</style>\n",
       "<table border=\"1\" class=\"dataframe\">\n",
       "  <thead>\n",
       "    <tr style=\"text-align: right;\">\n",
       "      <th></th>\n",
       "      <th>Pregnancies</th>\n",
       "      <th>Glucose</th>\n",
       "      <th>BloodPressure</th>\n",
       "      <th>SkinThickness</th>\n",
       "      <th>Insulin</th>\n",
       "      <th>BMI</th>\n",
       "      <th>DiabetesPedigreeFunction</th>\n",
       "      <th>Age</th>\n",
       "      <th>Outcome</th>\n",
       "    </tr>\n",
       "  </thead>\n",
       "  <tbody>\n",
       "    <tr>\n",
       "      <th>count</th>\n",
       "      <td>768.00</td>\n",
       "      <td>768.00</td>\n",
       "      <td>768.00</td>\n",
       "      <td>768.00</td>\n",
       "      <td>768.00</td>\n",
       "      <td>768.00</td>\n",
       "      <td>768.00</td>\n",
       "      <td>768.00</td>\n",
       "      <td>768.00</td>\n",
       "    </tr>\n",
       "    <tr>\n",
       "      <th>mean</th>\n",
       "      <td>3.85</td>\n",
       "      <td>120.89</td>\n",
       "      <td>69.11</td>\n",
       "      <td>20.54</td>\n",
       "      <td>79.80</td>\n",
       "      <td>31.99</td>\n",
       "      <td>0.47</td>\n",
       "      <td>33.24</td>\n",
       "      <td>0.35</td>\n",
       "    </tr>\n",
       "    <tr>\n",
       "      <th>std</th>\n",
       "      <td>3.37</td>\n",
       "      <td>31.97</td>\n",
       "      <td>19.36</td>\n",
       "      <td>15.95</td>\n",
       "      <td>115.24</td>\n",
       "      <td>7.88</td>\n",
       "      <td>0.33</td>\n",
       "      <td>11.76</td>\n",
       "      <td>0.48</td>\n",
       "    </tr>\n",
       "    <tr>\n",
       "      <th>min</th>\n",
       "      <td>0.00</td>\n",
       "      <td>0.00</td>\n",
       "      <td>0.00</td>\n",
       "      <td>0.00</td>\n",
       "      <td>0.00</td>\n",
       "      <td>0.00</td>\n",
       "      <td>0.08</td>\n",
       "      <td>21.00</td>\n",
       "      <td>0.00</td>\n",
       "    </tr>\n",
       "    <tr>\n",
       "      <th>25%</th>\n",
       "      <td>1.00</td>\n",
       "      <td>99.00</td>\n",
       "      <td>62.00</td>\n",
       "      <td>0.00</td>\n",
       "      <td>0.00</td>\n",
       "      <td>27.30</td>\n",
       "      <td>0.24</td>\n",
       "      <td>24.00</td>\n",
       "      <td>0.00</td>\n",
       "    </tr>\n",
       "    <tr>\n",
       "      <th>50%</th>\n",
       "      <td>3.00</td>\n",
       "      <td>117.00</td>\n",
       "      <td>72.00</td>\n",
       "      <td>23.00</td>\n",
       "      <td>30.50</td>\n",
       "      <td>32.00</td>\n",
       "      <td>0.37</td>\n",
       "      <td>29.00</td>\n",
       "      <td>0.00</td>\n",
       "    </tr>\n",
       "    <tr>\n",
       "      <th>75%</th>\n",
       "      <td>6.00</td>\n",
       "      <td>140.25</td>\n",
       "      <td>80.00</td>\n",
       "      <td>32.00</td>\n",
       "      <td>127.25</td>\n",
       "      <td>36.60</td>\n",
       "      <td>0.63</td>\n",
       "      <td>41.00</td>\n",
       "      <td>1.00</td>\n",
       "    </tr>\n",
       "    <tr>\n",
       "      <th>max</th>\n",
       "      <td>17.00</td>\n",
       "      <td>199.00</td>\n",
       "      <td>122.00</td>\n",
       "      <td>99.00</td>\n",
       "      <td>846.00</td>\n",
       "      <td>67.10</td>\n",
       "      <td>2.42</td>\n",
       "      <td>81.00</td>\n",
       "      <td>1.00</td>\n",
       "    </tr>\n",
       "  </tbody>\n",
       "</table>\n",
       "</div>"
      ],
      "text/plain": [
       "       Pregnancies  Glucose  BloodPressure  SkinThickness  Insulin    BMI  \\\n",
       "count       768.00   768.00         768.00         768.00   768.00 768.00   \n",
       "mean          3.85   120.89          69.11          20.54    79.80  31.99   \n",
       "std           3.37    31.97          19.36          15.95   115.24   7.88   \n",
       "min           0.00     0.00           0.00           0.00     0.00   0.00   \n",
       "25%           1.00    99.00          62.00           0.00     0.00  27.30   \n",
       "50%           3.00   117.00          72.00          23.00    30.50  32.00   \n",
       "75%           6.00   140.25          80.00          32.00   127.25  36.60   \n",
       "max          17.00   199.00         122.00          99.00   846.00  67.10   \n",
       "\n",
       "       DiabetesPedigreeFunction    Age  Outcome  \n",
       "count                    768.00 768.00   768.00  \n",
       "mean                       0.47  33.24     0.35  \n",
       "std                        0.33  11.76     0.48  \n",
       "min                        0.08  21.00     0.00  \n",
       "25%                        0.24  24.00     0.00  \n",
       "50%                        0.37  29.00     0.00  \n",
       "75%                        0.63  41.00     1.00  \n",
       "max                        2.42  81.00     1.00  "
      ]
     },
     "execution_count": 39,
     "metadata": {},
     "output_type": "execute_result"
    }
   ],
   "source": [
    "df.describe()"
   ]
  },
  {
   "cell_type": "code",
   "execution_count": 40,
   "metadata": {},
   "outputs": [
    {
     "data": {
      "text/html": [
       "<div>\n",
       "<style scoped>\n",
       "    .dataframe tbody tr th:only-of-type {\n",
       "        vertical-align: middle;\n",
       "    }\n",
       "\n",
       "    .dataframe tbody tr th {\n",
       "        vertical-align: top;\n",
       "    }\n",
       "\n",
       "    .dataframe thead th {\n",
       "        text-align: right;\n",
       "    }\n",
       "</style>\n",
       "<table border=\"1\" class=\"dataframe\">\n",
       "  <thead>\n",
       "    <tr style=\"text-align: right;\">\n",
       "      <th></th>\n",
       "      <th>Pregnancies</th>\n",
       "      <th>Glucose</th>\n",
       "      <th>BloodPressure</th>\n",
       "      <th>SkinThickness</th>\n",
       "      <th>Insulin</th>\n",
       "      <th>BMI</th>\n",
       "      <th>DiabetesPedigreeFunction</th>\n",
       "      <th>Age</th>\n",
       "      <th>Outcome</th>\n",
       "    </tr>\n",
       "  </thead>\n",
       "  <tbody>\n",
       "    <tr>\n",
       "      <th>0</th>\n",
       "      <td>6</td>\n",
       "      <td>148</td>\n",
       "      <td>72</td>\n",
       "      <td>35</td>\n",
       "      <td>0</td>\n",
       "      <td>33.60</td>\n",
       "      <td>0.63</td>\n",
       "      <td>50</td>\n",
       "      <td>1</td>\n",
       "    </tr>\n",
       "    <tr>\n",
       "      <th>1</th>\n",
       "      <td>1</td>\n",
       "      <td>85</td>\n",
       "      <td>66</td>\n",
       "      <td>29</td>\n",
       "      <td>0</td>\n",
       "      <td>26.60</td>\n",
       "      <td>0.35</td>\n",
       "      <td>31</td>\n",
       "      <td>0</td>\n",
       "    </tr>\n",
       "    <tr>\n",
       "      <th>2</th>\n",
       "      <td>8</td>\n",
       "      <td>183</td>\n",
       "      <td>64</td>\n",
       "      <td>0</td>\n",
       "      <td>0</td>\n",
       "      <td>23.30</td>\n",
       "      <td>0.67</td>\n",
       "      <td>32</td>\n",
       "      <td>1</td>\n",
       "    </tr>\n",
       "    <tr>\n",
       "      <th>3</th>\n",
       "      <td>1</td>\n",
       "      <td>89</td>\n",
       "      <td>66</td>\n",
       "      <td>23</td>\n",
       "      <td>94</td>\n",
       "      <td>28.10</td>\n",
       "      <td>0.17</td>\n",
       "      <td>21</td>\n",
       "      <td>0</td>\n",
       "    </tr>\n",
       "    <tr>\n",
       "      <th>4</th>\n",
       "      <td>0</td>\n",
       "      <td>137</td>\n",
       "      <td>40</td>\n",
       "      <td>35</td>\n",
       "      <td>168</td>\n",
       "      <td>43.10</td>\n",
       "      <td>2.29</td>\n",
       "      <td>33</td>\n",
       "      <td>1</td>\n",
       "    </tr>\n",
       "  </tbody>\n",
       "</table>\n",
       "</div>"
      ],
      "text/plain": [
       "   Pregnancies  Glucose  BloodPressure  SkinThickness  Insulin   BMI  \\\n",
       "0            6      148             72             35        0 33.60   \n",
       "1            1       85             66             29        0 26.60   \n",
       "2            8      183             64              0        0 23.30   \n",
       "3            1       89             66             23       94 28.10   \n",
       "4            0      137             40             35      168 43.10   \n",
       "\n",
       "   DiabetesPedigreeFunction  Age  Outcome  \n",
       "0                      0.63   50        1  \n",
       "1                      0.35   31        0  \n",
       "2                      0.67   32        1  \n",
       "3                      0.17   21        0  \n",
       "4                      2.29   33        1  "
      ]
     },
     "execution_count": 40,
     "metadata": {},
     "output_type": "execute_result"
    }
   ],
   "source": [
    "#Display the first five records of the dataset\n",
    "df.head()"
   ]
  },
  {
   "cell_type": "code",
   "execution_count": 41,
   "metadata": {},
   "outputs": [
    {
     "name": "stdout",
     "output_type": "stream",
     "text": [
      "Found existing cluster, use it.\n",
      "Succeeded\n",
      "AmlCompute wait for completion finished\n",
      "\n",
      "Minimum number of nodes requested have been provisioned\n"
     ]
    }
   ],
   "source": [
    "# Create CPU cluster\n",
    "amlcompute_cluster_name = \"cluster\"\n",
    "\n",
    "# Verify if cluster does not exist otherwise use the existing one\n",
    "try:\n",
    "    compute_target = ComputeTarget(workspace=ws, name=amlcompute_cluster_name)\n",
    "    print('Found existing cluster, use it.')\n",
    "except ComputeTargetException:\n",
    "    compute_config = AmlCompute.provisioning_configuration(vm_size='Standard_DS12_V2',\n",
    "                                                           vm_priority = 'lowpriority', \n",
    "                                                           max_nodes=4)\n",
    "    compute_target = ComputeTarget.create(ws, amlcompute_cluster_name, compute_config)\n",
    "\n",
    "compute_target.wait_for_completion(show_output=True)\n"
   ]
  },
  {
   "cell_type": "markdown",
   "metadata": {},
   "source": [
    "## AutoML Configuration\n",
    "\n",
    "Overview of the automl settings and configuration used for this experiment:"
   ]
  },
  {
   "cell_type": "code",
   "execution_count": 42,
   "metadata": {
    "gather": {
     "logged": 1598429217746
    },
    "jupyter": {
     "outputs_hidden": false,
     "source_hidden": false
    },
    "nteract": {
     "transient": {
      "deleting": false
     }
    }
   },
   "outputs": [],
   "source": [
    "# Automl settings \n",
    "automl_settings = {\n",
    "    \"experiment_timeout_minutes\": 30,\n",
    "    \"max_concurrent_iterations\": 4,\n",
    "    \"primary_metric\" : 'accuracy',\n",
    "    \"n_cross_validations\": 5,\n",
    "    \"iterations\": 24\n",
    "    \n",
    "}\n",
    "\n",
    "# Automl config \n",
    "automl_config = AutoMLConfig(compute_target=compute_target,\n",
    "                             task = 'classification',\n",
    "                             training_data=dataset,\n",
    "                             label_column_name='Outcome',\n",
    "                             enable_early_stopping= True,\n",
    "                             featurization = 'auto',\n",
    "                             debug_log = 'automl_errors.log',\n",
    "                             **automl_settings\n",
    "                            )\n",
    "\n"
   ]
  },
  {
   "cell_type": "code",
   "execution_count": 43,
   "metadata": {
    "gather": {
     "logged": 1598431107951
    },
    "jupyter": {
     "outputs_hidden": false,
     "source_hidden": false
    },
    "nteract": {
     "transient": {
      "deleting": false
     }
    }
   },
   "outputs": [
    {
     "name": "stdout",
     "output_type": "stream",
     "text": [
      "Submitting remote run.\n",
      "No run_configuration provided, running on cluster with default configuration\n",
      "Running on remote compute: cluster\n"
     ]
    },
    {
     "data": {
      "text/html": [
       "<table style=\"width:100%\"><tr><th>Experiment</th><th>Id</th><th>Type</th><th>Status</th><th>Details Page</th><th>Docs Page</th></tr><tr><td>automl</td><td>AutoML_b758f7f2-c89e-4c95-a80e-f034cbc4397f</td><td>automl</td><td>NotStarted</td><td><a href=\"https://ml.azure.com/runs/AutoML_b758f7f2-c89e-4c95-a80e-f034cbc4397f?wsid=/subscriptions/9b72f9e6-56c5-4c16-991b-19c652994860/resourcegroups/aml-quickstarts-222426/workspaces/quick-starts-ws-222426&amp;tid=660b3398-b80e-49d2-bc5b-ac1dc93b5254\" target=\"_blank\" rel=\"noopener\">Link to Azure Machine Learning studio</a></td><td><a href=\"https://docs.microsoft.com/en-us/python/api/overview/azure/ml/intro?view=azure-ml-py\" target=\"_blank\" rel=\"noopener\">Link to Documentation</a></td></tr></table>"
      ],
      "text/plain": [
       "<IPython.core.display.HTML object>"
      ]
     },
     "metadata": {},
     "output_type": "display_data"
    },
    {
     "name": "stdout",
     "output_type": "stream",
     "text": [
      "\n",
      "Current status: FeaturesGeneration. Generating features for the dataset.\n",
      "Current status: DatasetCrossValidationSplit. Generating individually featurized CV splits.\n",
      "Current status: ModelSelection. Beginning model selection.\n",
      "\n",
      "********************************************************************************************\n",
      "DATA GUARDRAILS: \n",
      "\n",
      "TYPE:         Class balancing detection\n",
      "STATUS:       PASSED\n",
      "DESCRIPTION:  Your inputs were analyzed, and all classes are balanced in your training data.\n",
      "              Learn more about imbalanced data: https://aka.ms/AutomatedMLImbalancedData\n",
      "\n",
      "********************************************************************************************\n",
      "\n",
      "TYPE:         Missing feature values imputation\n",
      "STATUS:       PASSED\n",
      "DESCRIPTION:  No feature missing values were detected in the training data.\n",
      "              Learn more about missing value imputation: https://aka.ms/AutomatedMLFeaturization\n",
      "\n",
      "********************************************************************************************\n",
      "\n",
      "TYPE:         High cardinality feature detection\n",
      "STATUS:       PASSED\n",
      "DESCRIPTION:  Your inputs were analyzed, and no high cardinality features were detected.\n",
      "              Learn more about high cardinality feature handling: https://aka.ms/AutomatedMLFeaturization\n",
      "\n",
      "********************************************************************************************\n",
      "\n",
      "********************************************************************************************\n",
      "ITER: The iteration being evaluated.\n",
      "PIPELINE: A summary description of the pipeline being evaluated.\n",
      "DURATION: Time taken for the current iteration.\n",
      "METRIC: The result of computing score on the fitted pipeline.\n",
      "BEST: The best observed score thus far.\n",
      "********************************************************************************************\n",
      "\n",
      " ITER   PIPELINE                                       DURATION            METRIC      BEST\n",
      "    0   MaxAbsScaler LightGBM                          0:00:08             0.7461    0.7461\n",
      "    1   MaxAbsScaler XGBoostClassifier                 0:00:14             0.7500    0.7500\n",
      "    2   MaxAbsScaler ExtremeRandomTrees                0:00:13             0.7200    0.7500\n",
      "    3   SparseNormalizer XGBoostClassifier             0:00:13             0.6785    0.7500\n",
      "    4   MaxAbsScaler LightGBM                          0:00:12             0.7605    0.7605\n",
      "    5   MaxAbsScaler LightGBM                          0:00:08             0.7228    0.7605\n",
      "    6   StandardScalerWrapper XGBoostClassifier        0:00:12             0.7514    0.7605\n",
      "    7   MaxAbsScaler LogisticRegression                0:00:12             0.7709    0.7709\n",
      "    8   StandardScalerWrapper ExtremeRandomTrees       0:00:08             0.6511    0.7709\n",
      "    9   StandardScalerWrapper XGBoostClassifier        0:00:13             0.7501    0.7709\n",
      "   10   SparseNormalizer LightGBM                      0:00:10             0.6785    0.7709\n",
      "   11   StandardScalerWrapper XGBoostClassifier        0:00:09             0.7605    0.7709\n",
      "   12   MaxAbsScaler LogisticRegression                0:00:13             0.7696    0.7709\n",
      "   15   SparseNormalizer RandomForest                  0:00:11             0.6980    0.7709\n",
      "   13   MaxAbsScaler SGD                               0:00:08             0.6849    0.7709\n",
      "   16   StandardScalerWrapper LogisticRegression       0:00:13             0.7644    0.7709\n",
      "   17   StandardScalerWrapper RandomForest             0:00:08             0.7618    0.7709\n",
      "   14   StandardScalerWrapper XGBoostClassifier        0:00:13             0.7683    0.7709\n",
      "   18   StandardScalerWrapper XGBoostClassifier        0:00:09             0.7657    0.7709\n",
      "   19   TruncatedSVDWrapper RandomForest               0:00:14             0.7240    0.7709\n",
      "   21   StandardScalerWrapper XGBoostClassifier        0:00:28             0.7500    0.7709\n",
      "   20   TruncatedSVDWrapper RandomForest               0:01:18             0.7410    0.7709\n",
      "   22    VotingEnsemble                                0:00:39             0.7865    0.7865\n",
      "   23    StackEnsemble                                 0:00:45             0.7813    0.7865\n"
     ]
    }
   ],
   "source": [
    "# Submit experiment\n",
    "remote_run = experiment.submit(automl_config, show_output=True)"
   ]
  },
  {
   "cell_type": "markdown",
   "metadata": {},
   "source": [
    "## Run Details\n",
    "\n",
    "The best model has resulted from the AutoML experiment from VotingEnsemble model. The Voting Ensemble model takes a majority vote of several algorithms which makes it surpass individual algorithms and minimize the bias. \n",
    "\n",
    "Use the `RunDetails` widget to show the different experiments."
   ]
  },
  {
   "cell_type": "code",
   "execution_count": 44,
   "metadata": {
    "gather": {
     "logged": 1598431121770
    },
    "jupyter": {
     "outputs_hidden": false,
     "source_hidden": false
    },
    "nteract": {
     "transient": {
      "deleting": false
     }
    }
   },
   "outputs": [
    {
     "data": {
      "application/vnd.jupyter.widget-view+json": {
       "model_id": "52c0aff399964122afd3010954404af0",
       "version_major": 2,
       "version_minor": 0
      },
      "text/plain": [
       "_AutoMLWidget(widget_settings={'childWidgetDisplay': 'popup', 'send_telemetry': False, 'log_level': 'INFO', 's…"
      ]
     },
     "metadata": {},
     "output_type": "display_data"
    },
    {
     "data": {
      "application/aml.mini.widget.v1": "{\"status\": \"Completed\", \"workbench_run_details_uri\": \"https://ml.azure.com/runs/AutoML_b758f7f2-c89e-4c95-a80e-f034cbc4397f?wsid=/subscriptions/9b72f9e6-56c5-4c16-991b-19c652994860/resourcegroups/aml-quickstarts-222426/workspaces/quick-starts-ws-222426&tid=660b3398-b80e-49d2-bc5b-ac1dc93b5254\", \"run_id\": \"AutoML_b758f7f2-c89e-4c95-a80e-f034cbc4397f\", \"run_properties\": {\"run_id\": \"AutoML_b758f7f2-c89e-4c95-a80e-f034cbc4397f\", \"created_utc\": \"2023-01-13T14:44:55.814649Z\", \"properties\": {\"num_iterations\": \"24\", \"training_type\": \"TrainFull\", \"acquisition_function\": \"EI\", \"primary_metric\": \"accuracy\", \"train_split\": \"0\", \"acquisition_parameter\": \"0\", \"num_cross_validation\": \"5\", \"target\": \"cluster\", \"AMLSettingsJsonString\": \"{\\\"path\\\":null,\\\"name\\\":\\\"automl\\\",\\\"subscription_id\\\":\\\"9b72f9e6-56c5-4c16-991b-19c652994860\\\",\\\"resource_group\\\":\\\"aml-quickstarts-222426\\\",\\\"workspace_name\\\":\\\"quick-starts-ws-222426\\\",\\\"region\\\":\\\"southcentralus\\\",\\\"compute_target\\\":\\\"cluster\\\",\\\"spark_service\\\":null,\\\"azure_service\\\":\\\"remote\\\",\\\"many_models\\\":false,\\\"pipeline_fetch_max_batch_size\\\":1,\\\"enable_batch_run\\\":true,\\\"enable_parallel_run\\\":false,\\\"num_procs\\\":null,\\\"enable_run_restructure\\\":false,\\\"start_auxiliary_runs_before_parent_complete\\\":false,\\\"enable_code_generation\\\":true,\\\"iterations\\\":24,\\\"primary_metric\\\":\\\"accuracy\\\",\\\"task_type\\\":\\\"classification\\\",\\\"positive_label\\\":null,\\\"data_script\\\":null,\\\"test_size\\\":0.0,\\\"test_include_predictions_only\\\":false,\\\"validation_size\\\":0.0,\\\"n_cross_validations\\\":5,\\\"y_min\\\":null,\\\"y_max\\\":null,\\\"num_classes\\\":null,\\\"featurization\\\":\\\"auto\\\",\\\"_ignore_package_version_incompatibilities\\\":false,\\\"is_timeseries\\\":false,\\\"max_cores_per_iteration\\\":1,\\\"max_concurrent_iterations\\\":4,\\\"iteration_timeout_minutes\\\":null,\\\"mem_in_mb\\\":null,\\\"enforce_time_on_windows\\\":false,\\\"experiment_timeout_minutes\\\":30,\\\"experiment_exit_score\\\":null,\\\"partition_column_names\\\":null,\\\"whitelist_models\\\":null,\\\"blacklist_algos\\\":[\\\"TensorFlowLinearClassifier\\\",\\\"TensorFlowDNN\\\"],\\\"supported_models\\\":[\\\"TabnetClassifier\\\",\\\"DecisionTree\\\",\\\"LightGBM\\\",\\\"TensorFlowLinearClassifier\\\",\\\"XGBoostClassifier\\\",\\\"SGD\\\",\\\"BernoulliNaiveBayes\\\",\\\"LinearSVM\\\",\\\"TensorFlowDNN\\\",\\\"AveragedPerceptronClassifier\\\",\\\"ExtremeRandomTrees\\\",\\\"KNN\\\",\\\"LogisticRegression\\\",\\\"GradientBoosting\\\",\\\"SVM\\\",\\\"MultinomialNaiveBayes\\\",\\\"RandomForest\\\"],\\\"private_models\\\":[],\\\"auto_blacklist\\\":true,\\\"blacklist_samples_reached\\\":false,\\\"exclude_nan_labels\\\":true,\\\"verbosity\\\":20,\\\"_debug_log\\\":\\\"azureml_automl.log\\\",\\\"show_warnings\\\":false,\\\"model_explainability\\\":true,\\\"service_url\\\":null,\\\"sdk_url\\\":null,\\\"sdk_packages\\\":null,\\\"enable_onnx_compatible_models\\\":false,\\\"enable_split_onnx_featurizer_estimator_models\\\":false,\\\"vm_type\\\":\\\"STANDARD_DS3_V2\\\",\\\"telemetry_verbosity\\\":20,\\\"send_telemetry\\\":true,\\\"enable_dnn\\\":false,\\\"scenario\\\":\\\"AutoML\\\",\\\"environment_label\\\":null,\\\"save_mlflow\\\":false,\\\"enable_categorical_indicators\\\":false,\\\"force_text_dnn\\\":false,\\\"enable_feature_sweeping\\\":true,\\\"enable_early_stopping\\\":true,\\\"early_stopping_n_iters\\\":10,\\\"arguments\\\":null,\\\"dataset_id\\\":\\\"8afc90c6-af56-4339-978b-781db6b09589\\\",\\\"hyperdrive_config\\\":null,\\\"validation_dataset_id\\\":null,\\\"run_source\\\":null,\\\"metrics\\\":null,\\\"enable_metric_confidence\\\":false,\\\"enable_ensembling\\\":true,\\\"enable_stack_ensembling\\\":true,\\\"ensemble_iterations\\\":15,\\\"enable_tf\\\":false,\\\"enable_subsampling\\\":false,\\\"subsample_seed\\\":null,\\\"enable_nimbusml\\\":false,\\\"enable_streaming\\\":false,\\\"force_streaming\\\":false,\\\"track_child_runs\\\":true,\\\"n_best_runs\\\":1,\\\"allowed_private_models\\\":[],\\\"label_column_name\\\":\\\"Outcome\\\",\\\"weight_column_name\\\":null,\\\"cv_split_column_names\\\":null,\\\"enable_local_managed\\\":false,\\\"_local_managed_run_id\\\":null,\\\"cost_mode\\\":1,\\\"lag_length\\\":0,\\\"metric_operation\\\":\\\"maximize\\\",\\\"preprocess\\\":true}\", \"DataPrepJsonString\": \"{\\\\\\\"training_data\\\\\\\": {\\\\\\\"datasetId\\\\\\\": \\\\\\\"8afc90c6-af56-4339-978b-781db6b09589\\\\\\\"}, \\\\\\\"datasets\\\\\\\": 0}\", \"EnableSubsampling\": \"False\", \"runTemplate\": \"AutoML\", \"azureml.runsource\": \"automl\", \"display_task_type\": \"classification\", \"dependencies_versions\": \"{\\\"azureml-widgets\\\": \\\"1.47.0\\\", \\\"azureml-training-tabular\\\": \\\"1.47.0\\\", \\\"azureml-train\\\": \\\"1.47.0\\\", \\\"azureml-train-restclients-hyperdrive\\\": \\\"1.47.0\\\", \\\"azureml-train-core\\\": \\\"1.47.0\\\", \\\"azureml-train-automl\\\": \\\"1.47.0\\\", \\\"azureml-train-automl-runtime\\\": \\\"1.47.0\\\", \\\"azureml-train-automl-client\\\": \\\"1.47.0\\\", \\\"azureml-tensorboard\\\": \\\"1.47.0\\\", \\\"azureml-telemetry\\\": \\\"1.47.0\\\", \\\"azureml-sdk\\\": \\\"1.47.0\\\", \\\"azureml-samples\\\": \\\"0+unknown\\\", \\\"azureml-responsibleai\\\": \\\"1.47.0\\\", \\\"azureml-pipeline\\\": \\\"1.47.0\\\", \\\"azureml-pipeline-steps\\\": \\\"1.47.0\\\", \\\"azureml-pipeline-core\\\": \\\"1.47.0\\\", \\\"azureml-opendatasets\\\": \\\"1.47.0\\\", \\\"azureml-mlflow\\\": \\\"1.47.0\\\", \\\"azureml-interpret\\\": \\\"1.47.0\\\", \\\"azureml-inference-server-http\\\": \\\"0.7.6\\\", \\\"azureml-explain-model\\\": \\\"1.47.0\\\", \\\"azureml-defaults\\\": \\\"1.47.0\\\", \\\"azureml-dataset-runtime\\\": \\\"1.47.0\\\", \\\"azureml-dataprep\\\": \\\"4.5.7\\\", \\\"azureml-dataprep-rslex\\\": \\\"2.11.4\\\", \\\"azureml-dataprep-native\\\": \\\"38.0.0\\\", \\\"azureml-datadrift\\\": \\\"1.47.0\\\", \\\"azureml-core\\\": \\\"1.47.0\\\", \\\"azureml-contrib-services\\\": \\\"1.47.0\\\", \\\"azureml-contrib-server\\\": \\\"1.47.0\\\", \\\"azureml-contrib-reinforcementlearning\\\": \\\"1.47.0\\\", \\\"azureml-contrib-pipeline-steps\\\": \\\"1.47.0\\\", \\\"azureml-contrib-notebook\\\": \\\"1.47.0\\\", \\\"azureml-contrib-fairness\\\": \\\"1.47.0\\\", \\\"azureml-contrib-dataset\\\": \\\"1.47.0\\\", \\\"azureml-contrib-automl-pipeline-steps\\\": \\\"1.47.0\\\", \\\"azureml-cli-common\\\": \\\"1.47.0\\\", \\\"azureml-automl-runtime\\\": \\\"1.47.0\\\", \\\"azureml-automl-dnn-nlp\\\": \\\"1.47.0\\\", \\\"azureml-automl-core\\\": \\\"1.47.0\\\", \\\"azureml-accel-models\\\": \\\"1.47.0\\\"}\", \"_aml_system_scenario_identification\": \"Remote.Parent\", \"ClientType\": \"SDK\", \"environment_cpu_name\": \"AzureML-AutoML\", \"environment_cpu_label\": \"prod\", \"environment_gpu_name\": \"AzureML-AutoML-GPU\", \"environment_gpu_label\": \"prod\", \"root_attribution\": \"automl\", \"attribution\": \"AutoML\", \"Orchestrator\": \"AutoML\", \"CancelUri\": \"https://southcentralus.api.azureml.ms/jasmine/v1.0/subscriptions/9b72f9e6-56c5-4c16-991b-19c652994860/resourceGroups/aml-quickstarts-222426/providers/Microsoft.MachineLearningServices/workspaces/quick-starts-ws-222426/experimentids/cbf0a169-0c08-44f6-9f6e-cabdd8a054c2/cancel/AutoML_b758f7f2-c89e-4c95-a80e-f034cbc4397f\", \"ClientSdkVersion\": \"1.48.0\", \"snapshotId\": \"00000000-0000-0000-0000-000000000000\", \"SetupRunId\": \"AutoML_b758f7f2-c89e-4c95-a80e-f034cbc4397f_setup\", \"SetupRunContainerId\": \"dcid.AutoML_b758f7f2-c89e-4c95-a80e-f034cbc4397f_setup\", \"FeaturizationRunJsonPath\": \"featurizer_container.json\", \"FeaturizationRunId\": \"AutoML_b758f7f2-c89e-4c95-a80e-f034cbc4397f_featurize\", \"ProblemInfoJsonString\": \"{\\\"dataset_num_categorical\\\": 0, \\\"is_sparse\\\": true, \\\"subsampling\\\": false, \\\"has_extra_col\\\": true, \\\"dataset_classes\\\": 2, \\\"dataset_features\\\": 24, \\\"dataset_samples\\\": 768, \\\"single_frequency_class_detected\\\": false}\", \"ModelExplainRunId\": \"AutoML_b758f7f2-c89e-4c95-a80e-f034cbc4397f_ModelExplain\"}, \"tags\": {\"model_explain_run\": \"best_run\", \"_aml_system_automl_run_workspace_id\": \"9549d17a-5d20-468a-9107-4612e51af2a1\", \"_aml_system_azureml.automlComponent\": \"AutoML\", \"pipeline_id\": \"\", \"score\": \"\", \"predicted_cost\": \"\", \"fit_time\": \"\", \"training_percent\": \"\", \"iteration\": \"\", \"run_preprocessor\": \"\", \"run_algorithm\": \"\", \"automl_best_child_run_id\": \"AutoML_b758f7f2-c89e-4c95-a80e-f034cbc4397f_22\", \"model_explain_best_run_child_id\": \"AutoML_b758f7f2-c89e-4c95-a80e-f034cbc4397f_22\"}, \"end_time_utc\": \"2023-01-13T14:56:10.564462Z\", \"status\": \"Completed\", \"log_files\": {}, \"log_groups\": [], \"run_duration\": \"0:11:14\", \"run_number\": \"1673621095\", \"run_queued_details\": {\"status\": \"Completed\", \"details\": null}}, \"child_runs\": [{\"run_id\": \"AutoML_b758f7f2-c89e-4c95-a80e-f034cbc4397f_setup\", \"run_number\": 1673621107, \"metric\": null, \"status\": \"Completed\", \"run_type\": \"azureml.scriptrun\", \"training_percent\": null, \"start_time\": \"2023-01-13T14:47:27.169167Z\", \"end_time\": \"2023-01-13T14:48:40.944317Z\", \"created_time\": \"2023-01-13T14:45:07.803585Z\", \"created_time_dt\": \"2023-01-13T14:45:07.803585Z\", \"duration\": \"0:03:33\", \"iteration\": null, \"goal\": null, \"run_name\": \"Completed\", \"run_properties\": null}, {\"run_id\": \"AutoML_b758f7f2-c89e-4c95-a80e-f034cbc4397f_featurize\", \"run_number\": 1673621321, \"metric\": null, \"status\": \"Completed\", \"run_type\": \"automl.featurization\", \"training_percent\": null, \"start_time\": \"2023-01-13T14:48:41.843558Z\", \"end_time\": \"2023-01-13T14:49:49.014039Z\", \"created_time\": \"2023-01-13T14:48:41.237557Z\", \"created_time_dt\": \"2023-01-13T14:48:41.237557Z\", \"duration\": \"0:01:07\", \"iteration\": null, \"goal\": null, \"run_name\": \"Completed\", \"run_properties\": null}, {\"run_id\": \"AutoML_b758f7f2-c89e-4c95-a80e-f034cbc4397f_0\", \"run_number\": 1673621390, \"metric\": null, \"status\": \"Completed\", \"run_type\": null, \"training_percent\": \"100\", \"start_time\": \"2023-01-13T14:50:06.935199Z\", \"end_time\": \"2023-01-13T14:50:15.430776Z\", \"created_time\": \"2023-01-13T14:49:50.070879Z\", \"created_time_dt\": \"2023-01-13T14:49:50.070879Z\", \"duration\": \"0:00:25\", \"iteration\": \"0\", \"goal\": \"accuracy_max\", \"run_name\": \"MaxAbsScaler, LightGBM\", \"run_properties\": \"copy=True\", \"primary_metric\": 0.74614209, \"best_metric\": 0.74614209}, {\"run_id\": \"AutoML_b758f7f2-c89e-4c95-a80e-f034cbc4397f_2\", \"run_number\": 1673621391, \"metric\": null, \"status\": \"Completed\", \"run_type\": null, \"training_percent\": \"100\", \"start_time\": \"2023-01-13T14:50:30.236028Z\", \"end_time\": \"2023-01-13T14:50:43.470399Z\", \"created_time\": \"2023-01-13T14:49:51.035652Z\", \"created_time_dt\": \"2023-01-13T14:49:51.035652Z\", \"duration\": \"0:00:52\", \"iteration\": \"2\", \"goal\": \"accuracy_max\", \"run_name\": \"MaxAbsScaler, ExtremeRandomTrees\", \"run_properties\": \"copy=True\", \"primary_metric\": 0.72004074, \"best_metric\": 0.74614209}, {\"run_id\": \"AutoML_b758f7f2-c89e-4c95-a80e-f034cbc4397f_worker_0\", \"run_number\": 1673621392, \"metric\": null, \"status\": \"Completed\", \"run_type\": \"azureml.scriptrun\", \"training_percent\": null, \"start_time\": \"2023-01-13T14:49:58.507801Z\", \"end_time\": \"2023-01-13T14:51:18.866609Z\", \"created_time\": \"2023-01-13T14:49:52.201658Z\", \"created_time_dt\": \"2023-01-13T14:49:52.201658Z\", \"duration\": \"0:01:26\", \"iteration\": null, \"goal\": null, \"run_name\": \"Completed\", \"run_properties\": null}, {\"run_id\": \"AutoML_b758f7f2-c89e-4c95-a80e-f034cbc4397f_7\", \"run_number\": 1673621393, \"metric\": null, \"status\": \"Completed\", \"run_type\": null, \"training_percent\": \"100\", \"start_time\": \"2023-01-13T14:51:53.3265Z\", \"end_time\": \"2023-01-13T14:52:05.639503Z\", \"created_time\": \"2023-01-13T14:49:53.193051Z\", \"created_time_dt\": \"2023-01-13T14:49:53.193051Z\", \"duration\": \"0:02:12\", \"iteration\": \"7\", \"goal\": \"accuracy_max\", \"run_name\": \"MaxAbsScaler, LogisticRegression\", \"run_properties\": \"copy=True\", \"primary_metric\": 0.77088532, \"best_metric\": 0.77088532}, {\"run_id\": \"AutoML_b758f7f2-c89e-4c95-a80e-f034cbc4397f_worker_1\", \"run_number\": 1673621394, \"metric\": null, \"status\": \"Completed\", \"run_type\": \"azureml.scriptrun\", \"training_percent\": null, \"start_time\": \"2023-01-13T14:51:24.074317Z\", \"end_time\": \"2023-01-13T14:52:37.447148Z\", \"created_time\": \"2023-01-13T14:49:54.402669Z\", \"created_time_dt\": \"2023-01-13T14:49:54.402669Z\", \"duration\": \"0:02:43\", \"iteration\": null, \"goal\": null, \"run_name\": \"Completed\", \"run_properties\": null}, {\"run_id\": \"AutoML_b758f7f2-c89e-4c95-a80e-f034cbc4397f_11\", \"run_number\": 1673621395, \"metric\": null, \"status\": \"Completed\", \"run_type\": null, \"training_percent\": \"100\", \"start_time\": \"2023-01-13T14:53:11.488627Z\", \"end_time\": \"2023-01-13T14:53:20.36401Z\", \"created_time\": \"2023-01-13T14:49:55.177957Z\", \"created_time_dt\": \"2023-01-13T14:49:55.177957Z\", \"duration\": \"0:03:25\", \"iteration\": \"11\", \"goal\": \"accuracy_max\", \"run_name\": \"StandardScalerWrapper, XGBoostClassifier\", \"run_properties\": \"copy=True, with_mean=False, with_std=False\", \"primary_metric\": 0.76045327, \"best_metric\": 0.77088532}, {\"run_id\": \"AutoML_b758f7f2-c89e-4c95-a80e-f034cbc4397f_12\", \"run_number\": 1673621396, \"metric\": null, \"status\": \"Completed\", \"run_type\": null, \"training_percent\": \"100\", \"start_time\": \"2023-01-13T14:53:20.823243Z\", \"end_time\": \"2023-01-13T14:53:34.265412Z\", \"created_time\": \"2023-01-13T14:49:56.939182Z\", \"created_time_dt\": \"2023-01-13T14:49:56.939182Z\", \"duration\": \"0:03:37\", \"iteration\": \"12\", \"goal\": \"accuracy_max\", \"run_name\": \"MaxAbsScaler, LogisticRegression\", \"run_properties\": \"copy=True\", \"primary_metric\": 0.76959511, \"best_metric\": 0.77088532}, {\"run_id\": \"AutoML_b758f7f2-c89e-4c95-a80e-f034cbc4397f_13\", \"run_number\": 1673621397, \"metric\": null, \"status\": \"Completed\", \"run_type\": null, \"training_percent\": \"100\", \"start_time\": \"2023-01-13T14:53:34.695092Z\", \"end_time\": \"2023-01-13T14:53:42.747578Z\", \"created_time\": \"2023-01-13T14:49:57.629125Z\", \"created_time_dt\": \"2023-01-13T14:49:57.629125Z\", \"duration\": \"0:03:45\", \"iteration\": \"13\", \"goal\": \"accuracy_max\", \"run_name\": \"MaxAbsScaler, SGD\", \"run_properties\": \"copy=True\", \"primary_metric\": 0.6849079, \"best_metric\": 0.77088532}, {\"run_id\": \"AutoML_b758f7f2-c89e-4c95-a80e-f034cbc4397f_14\", \"run_number\": 1673621398, \"metric\": null, \"status\": \"Completed\", \"run_type\": null, \"training_percent\": \"100\", \"start_time\": \"2023-01-13T14:53:43.206022Z\", \"end_time\": \"2023-01-13T14:53:55.757166Z\", \"created_time\": \"2023-01-13T14:49:58.104254Z\", \"created_time_dt\": \"2023-01-13T14:49:58.104254Z\", \"duration\": \"0:03:57\", \"iteration\": \"14\", \"goal\": \"accuracy_max\", \"run_name\": \"StandardScalerWrapper, XGBoostClassifier\", \"run_properties\": \"copy=True, with_mean=False, with_std=False\", \"primary_metric\": 0.76827094, \"best_metric\": 0.77088532}, {\"run_id\": \"AutoML_b758f7f2-c89e-4c95-a80e-f034cbc4397f_worker_2\", \"run_number\": 1673621399, \"metric\": null, \"status\": \"Completed\", \"run_type\": \"azureml.scriptrun\", \"training_percent\": null, \"start_time\": \"2023-01-13T14:52:01.741771Z\", \"end_time\": \"2023-01-13T14:54:01.859298Z\", \"created_time\": \"2023-01-13T14:49:59.473515Z\", \"created_time_dt\": \"2023-01-13T14:49:59.473515Z\", \"duration\": \"0:04:02\", \"iteration\": null, \"goal\": null, \"run_name\": \"Completed\", \"run_properties\": null}, {\"run_id\": \"AutoML_b758f7f2-c89e-4c95-a80e-f034cbc4397f_16\", \"run_number\": 1673621400, \"metric\": null, \"status\": \"Completed\", \"run_type\": null, \"training_percent\": \"100\", \"start_time\": \"2023-01-13T14:53:16.920281Z\", \"end_time\": \"2023-01-13T14:53:29.719741Z\", \"created_time\": \"2023-01-13T14:50:00.104895Z\", \"created_time_dt\": \"2023-01-13T14:50:00.104895Z\", \"duration\": \"0:03:29\", \"iteration\": \"16\", \"goal\": \"accuracy_max\", \"run_name\": \"StandardScalerWrapper, LogisticRegression\", \"run_properties\": \"copy=True, with_mean=False, with_std=False\", \"primary_metric\": 0.76436635, \"best_metric\": 0.77088532}, {\"run_id\": \"AutoML_b758f7f2-c89e-4c95-a80e-f034cbc4397f_worker_3\", \"run_number\": 1673621401, \"metric\": null, \"status\": \"Completed\", \"run_type\": \"azureml.scriptrun\", \"training_percent\": null, \"start_time\": \"2023-01-13T14:52:05.097216Z\", \"end_time\": \"2023-01-13T14:54:11.21806Z\", \"created_time\": \"2023-01-13T14:50:01.875542Z\", \"created_time_dt\": \"2023-01-13T14:50:01.875542Z\", \"duration\": \"0:04:09\", \"iteration\": null, \"goal\": null, \"run_name\": \"Completed\", \"run_properties\": null}, {\"run_id\": \"AutoML_b758f7f2-c89e-4c95-a80e-f034cbc4397f_21\", \"run_number\": 1673621625, \"metric\": null, \"status\": \"Completed\", \"run_type\": \"azureml.scriptrun\", \"training_percent\": \"100\", \"start_time\": \"2023-01-13T14:53:51.663852Z\", \"end_time\": \"2023-01-13T14:54:19.47702Z\", \"created_time\": \"2023-01-13T14:53:45.115342Z\", \"created_time_dt\": \"2023-01-13T14:53:45.115342Z\", \"duration\": \"0:00:34\", \"iteration\": \"21\", \"goal\": \"accuracy_max\", \"run_name\": \"StandardScalerWrapper, XGBoostClassifier\", \"run_properties\": \"copy=True, with_mean=False, with_std=False\", \"primary_metric\": 0.75001273, \"best_metric\": 0.77088532}, {\"run_id\": \"AutoML_b758f7f2-c89e-4c95-a80e-f034cbc4397f_23\", \"run_number\": 1673621712, \"metric\": null, \"status\": \"Completed\", \"run_type\": \"azureml.scriptrun\", \"training_percent\": \"100\", \"start_time\": \"2023-01-13T14:55:22.090237Z\", \"end_time\": \"2023-01-13T14:56:07.183059Z\", \"created_time\": \"2023-01-13T14:55:12.720323Z\", \"created_time_dt\": \"2023-01-13T14:55:12.720323Z\", \"duration\": \"0:00:54\", \"iteration\": \"23\", \"goal\": \"accuracy_max\", \"run_name\": \"StackEnsemble\", \"run_properties\": \"base_learners=[('7', Pipeline(memory=None, steps=[('maxabsscaler', MaxAbsScaler(copy=True\", \"primary_metric\": 0.78127493, \"best_metric\": 0.78127493}], \"children_metrics\": {\"categories\": [0], \"series\": {\"matthews_correlation\": [{\"categories\": [\"0\", \"2\", \"7\", \"11\", \"12\", \"13\", \"14\", \"16\", \"21\", \"23\"], \"mode\": \"markers\", \"name\": \"matthews_correlation\", \"stepped\": false, \"type\": \"scatter\", \"data\": [0.42897685019524284, 0.41453942390907067, 0.4712193714399319, 0.4555913741443673, 0.4720759687480867, 0.34774460489791925, 0.4798547360076605, 0.4629117764509106, 0.43562761538090333, 0.49671793138969117]}, {\"categories\": [\"0\", \"2\", \"7\", \"11\", \"12\", \"13\", \"14\", \"16\", \"21\", \"23\"], \"mode\": \"lines\", \"name\": \"matthews_correlation_max\", \"stepped\": true, \"type\": \"scatter\", \"data\": [0.42897685019524284, 0.42897685019524284, 0.4712193714399319, 0.4712193714399319, 0.4720759687480867, 0.4720759687480867, 0.4798547360076605, 0.4798547360076605, 0.4798547360076605, 0.49671793138969117]}], \"recall_score_micro\": [{\"categories\": [\"0\", \"2\", \"7\", \"11\", \"12\", \"13\", \"14\", \"16\", \"21\", \"23\"], \"mode\": \"markers\", \"name\": \"recall_score_micro\", \"stepped\": false, \"type\": \"scatter\", \"data\": [0.7461420932009167, 0.7200407435701554, 0.7708853238265002, 0.7604532722179781, 0.7695951107715814, 0.6849079025549614, 0.7682709447415329, 0.7643663526016466, 0.7500127323656736, 0.7812749342161107]}, {\"categories\": [\"0\", \"2\", \"7\", \"11\", \"12\", \"13\", \"14\", \"16\", \"21\", \"23\"], \"mode\": \"lines\", \"name\": \"recall_score_micro_max\", \"stepped\": true, \"type\": \"scatter\", \"data\": [0.7461420932009167, 0.7461420932009167, 0.7708853238265002, 0.7708853238265002, 0.7708853238265002, 0.7708853238265002, 0.7708853238265002, 0.7708853238265002, 0.7708853238265002, 0.7812749342161107]}], \"f1_score_micro\": [{\"categories\": [\"0\", \"2\", \"7\", \"11\", \"12\", \"13\", \"14\", \"16\", \"21\", \"23\"], \"mode\": \"markers\", \"name\": \"f1_score_micro\", \"stepped\": false, \"type\": \"scatter\", \"data\": [0.7461420932009167, 0.7200407435701554, 0.7708853238265002, 0.760453272217978, 0.7695951107715813, 0.6849079025549614, 0.7682709447415329, 0.7643663526016466, 0.7500127323656736, 0.7812749342161107]}, {\"categories\": [\"0\", \"2\", \"7\", \"11\", \"12\", \"13\", \"14\", \"16\", \"21\", \"23\"], \"mode\": \"lines\", \"name\": \"f1_score_micro_max\", \"stepped\": true, \"type\": \"scatter\", \"data\": [0.7461420932009167, 0.7461420932009167, 0.7708853238265002, 0.7708853238265002, 0.7708853238265002, 0.7708853238265002, 0.7708853238265002, 0.7708853238265002, 0.7708853238265002, 0.7812749342161107]}], \"precision_score_weighted\": [{\"categories\": [\"0\", \"2\", \"7\", \"11\", \"12\", \"13\", \"14\", \"16\", \"21\", \"23\"], \"mode\": \"markers\", \"name\": \"precision_score_weighted\", \"stepped\": false, \"type\": \"scatter\", \"data\": [0.7443216189800509, 0.7428463899323172, 0.7705335173069073, 0.7580310893966675, 0.7696244720654124, 0.7120721575072976, 0.769707609567509, 0.7643621260243295, 0.749254584605586, 0.7795531734227916]}, {\"categories\": [\"0\", \"2\", \"7\", \"11\", \"12\", \"13\", \"14\", \"16\", \"21\", \"23\"], \"mode\": \"lines\", \"name\": \"precision_score_weighted_max\", \"stepped\": true, \"type\": \"scatter\", \"data\": [0.7443216189800509, 0.7443216189800509, 0.7705335173069073, 0.7705335173069073, 0.7705335173069073, 0.7705335173069073, 0.7705335173069073, 0.7705335173069073, 0.7705335173069073, 0.7795531734227916]}], \"norm_macro_recall\": [{\"categories\": [\"0\", \"2\", \"7\", \"11\", \"12\", \"13\", \"14\", \"16\", \"21\", \"23\"], \"mode\": \"markers\", \"name\": \"norm_macro_recall\", \"stepped\": false, \"type\": \"scatter\", \"data\": [0.42276761173837885, 0.4298300146404979, 0.4338715426735648, 0.44116714683765734, 0.43916300225472116, 0.36201053964497654, 0.46594786475256245, 0.43510122034869986, 0.4272271010651531, 0.4667263027355045]}, {\"categories\": [\"0\", \"2\", \"7\", \"11\", \"12\", \"13\", \"14\", \"16\", \"21\", \"23\"], \"mode\": \"lines\", \"name\": \"norm_macro_recall_max\", \"stepped\": true, \"type\": \"scatter\", \"data\": [0.42276761173837885, 0.4298300146404979, 0.4338715426735648, 0.44116714683765734, 0.44116714683765734, 0.44116714683765734, 0.46594786475256245, 0.46594786475256245, 0.46594786475256245, 0.4667263027355045]}], \"AUC_micro\": [{\"categories\": [\"0\", \"2\", \"7\", \"11\", \"12\", \"13\", \"14\", \"16\", \"21\", \"23\"], \"mode\": \"markers\", \"name\": \"AUC_micro\", \"stepped\": false, \"type\": \"scatter\", \"data\": [0.8305842991151339, 0.8051156543569551, 0.8434022897046608, 0.8418605210138935, 0.8461247514184198, 0.753598468502077, 0.839612194109715, 0.8361720604264681, 0.8351319104857954, 0.8544650565172145]}, {\"categories\": [\"0\", \"2\", \"7\", \"11\", \"12\", \"13\", \"14\", \"16\", \"21\", \"23\"], \"mode\": \"lines\", \"name\": \"AUC_micro_max\", \"stepped\": true, \"type\": \"scatter\", \"data\": [0.8305842991151339, 0.8305842991151339, 0.8434022897046608, 0.8434022897046608, 0.8461247514184198, 0.8461247514184198, 0.8461247514184198, 0.8461247514184198, 0.8461247514184198, 0.8544650565172145]}], \"recall_score_macro\": [{\"categories\": [\"0\", \"2\", \"7\", \"11\", \"12\", \"13\", \"14\", \"16\", \"21\", \"23\"], \"mode\": \"markers\", \"name\": \"recall_score_macro\", \"stepped\": false, \"type\": \"scatter\", \"data\": [0.7113838058691895, 0.714915007320249, 0.7169357713367823, 0.7205835734188286, 0.7195815011273605, 0.6810052698224883, 0.7329739323762812, 0.71755061017435, 0.7136135505325766, 0.7333631513677522]}, {\"categories\": [\"0\", \"2\", \"7\", \"11\", \"12\", \"13\", \"14\", \"16\", \"21\", \"23\"], \"mode\": \"lines\", \"name\": \"recall_score_macro_max\", \"stepped\": true, \"type\": \"scatter\", \"data\": [0.7113838058691895, 0.714915007320249, 0.7169357713367823, 0.7205835734188286, 0.7205835734188286, 0.7205835734188286, 0.7329739323762812, 0.7329739323762812, 0.7329739323762812, 0.7333631513677522]}], \"f1_score_weighted\": [{\"categories\": [\"0\", \"2\", \"7\", \"11\", \"12\", \"13\", \"14\", \"16\", \"21\", \"23\"], \"mode\": \"markers\", \"name\": \"f1_score_weighted\", \"stepped\": false, \"type\": \"scatter\", \"data\": [0.7439880015804127, 0.7257283356568289, 0.7620076062957069, 0.75586839317746, 0.7621537594041591, 0.6914118768033518, 0.7639428560147505, 0.7573673367696634, 0.7476041816694079, 0.7743528872447204]}, {\"categories\": [\"0\", \"2\", \"7\", \"11\", \"12\", \"13\", \"14\", \"16\", \"21\", \"23\"], \"mode\": \"lines\", \"name\": \"f1_score_weighted_max\", \"stepped\": true, \"type\": \"scatter\", \"data\": [0.7439880015804127, 0.7439880015804127, 0.7620076062957069, 0.7620076062957069, 0.7621537594041591, 0.7621537594041591, 0.7639428560147505, 0.7639428560147505, 0.7639428560147505, 0.7743528872447204]}], \"AUC_macro\": [{\"categories\": [\"0\", \"2\", \"7\", \"11\", \"12\", \"13\", \"14\", \"16\", \"21\", \"23\"], \"mode\": \"markers\", \"name\": \"AUC_macro\", \"stepped\": false, \"type\": \"scatter\", \"data\": [0.8044555568955882, 0.8006927662949396, 0.8195804764734881, 0.821196709026568, 0.8216726383448745, 0.7614916263307666, 0.8161059444728691, 0.8071347997463194, 0.811227785966435, 0.8366942523379987]}, {\"categories\": [\"0\", \"2\", \"7\", \"11\", \"12\", \"13\", \"14\", \"16\", \"21\", \"23\"], \"mode\": \"lines\", \"name\": \"AUC_macro_max\", \"stepped\": true, \"type\": \"scatter\", \"data\": [0.8044555568955882, 0.8044555568955882, 0.8195804764734881, 0.821196709026568, 0.8216726383448745, 0.8216726383448745, 0.8216726383448745, 0.8216726383448745, 0.8216726383448745, 0.8366942523379987]}], \"weighted_accuracy\": [{\"categories\": [\"0\", \"2\", \"7\", \"11\", \"12\", \"13\", \"14\", \"16\", \"21\", \"23\"], \"mode\": \"markers\", \"name\": \"weighted_accuracy\", \"stepped\": false, \"type\": \"scatter\", \"data\": [0.7727292546542748, 0.722780886723541, 0.8129906231655241, 0.7914301998256321, 0.8086071962998101, 0.6856523130622196, 0.7964493776295963, 0.8015671154126804, 0.7781621512850622, 0.8181753533701063]}, {\"categories\": [\"0\", \"2\", \"7\", \"11\", \"12\", \"13\", \"14\", \"16\", \"21\", \"23\"], \"mode\": \"lines\", \"name\": \"weighted_accuracy_max\", \"stepped\": true, \"type\": \"scatter\", \"data\": [0.7727292546542748, 0.7727292546542748, 0.8129906231655241, 0.8129906231655241, 0.8129906231655241, 0.8129906231655241, 0.8129906231655241, 0.8129906231655241, 0.8129906231655241, 0.8181753533701063]}], \"average_precision_score_micro\": [{\"categories\": [\"0\", \"2\", \"7\", \"11\", \"12\", \"13\", \"14\", \"16\", \"21\", \"23\"], \"mode\": \"markers\", \"name\": \"average_precision_score_micro\", \"stepped\": false, \"type\": \"scatter\", \"data\": [0.8311608346515413, 0.806427268441357, 0.8377688210839125, 0.8379459056807876, 0.8395846135214446, 0.7443846463315774, 0.8348101001813488, 0.8290335895128548, 0.8335270173077349, 0.8560418676914766]}, {\"categories\": [\"0\", \"2\", \"7\", \"11\", \"12\", \"13\", \"14\", \"16\", \"21\", \"23\"], \"mode\": \"lines\", \"name\": \"average_precision_score_micro_max\", \"stepped\": true, \"type\": \"scatter\", \"data\": [0.8311608346515413, 0.8311608346515413, 0.8377688210839125, 0.8379459056807876, 0.8395846135214446, 0.8395846135214446, 0.8395846135214446, 0.8395846135214446, 0.8395846135214446, 0.8560418676914766]}], \"AUC_weighted\": [{\"categories\": [\"0\", \"2\", \"7\", \"11\", \"12\", \"13\", \"14\", \"16\", \"21\", \"23\"], \"mode\": \"markers\", \"name\": \"AUC_weighted\", \"stepped\": false, \"type\": \"scatter\", \"data\": [0.8044555568955882, 0.8006927662949396, 0.8195804764734881, 0.821196709026568, 0.8216726383448745, 0.7614916263307666, 0.8161059444728691, 0.8071347997463194, 0.811227785966435, 0.8366942523379987]}, {\"categories\": [\"0\", \"2\", \"7\", \"11\", \"12\", \"13\", \"14\", \"16\", \"21\", \"23\"], \"mode\": \"lines\", \"name\": \"AUC_weighted_max\", \"stepped\": true, \"type\": \"scatter\", \"data\": [0.8044555568955882, 0.8044555568955882, 0.8195804764734881, 0.821196709026568, 0.8216726383448745, 0.8216726383448745, 0.8216726383448745, 0.8216726383448745, 0.8216726383448745, 0.8366942523379987]}], \"balanced_accuracy\": [{\"categories\": [\"0\", \"2\", \"7\", \"11\", \"12\", \"13\", \"14\", \"16\", \"21\", \"23\"], \"mode\": \"markers\", \"name\": \"balanced_accuracy\", \"stepped\": false, \"type\": \"scatter\", \"data\": [0.7113838058691895, 0.714915007320249, 0.7169357713367823, 0.7205835734188286, 0.7195815011273605, 0.6810052698224883, 0.7329739323762812, 0.71755061017435, 0.7136135505325766, 0.7333631513677522]}, {\"categories\": [\"0\", \"2\", \"7\", \"11\", \"12\", \"13\", \"14\", \"16\", \"21\", \"23\"], \"mode\": \"lines\", \"name\": \"balanced_accuracy_max\", \"stepped\": true, \"type\": \"scatter\", \"data\": [0.7113838058691895, 0.714915007320249, 0.7169357713367823, 0.7205835734188286, 0.7205835734188286, 0.7205835734188286, 0.7329739323762812, 0.7329739323762812, 0.7329739323762812, 0.7333631513677522]}], \"precision_score_micro\": [{\"categories\": [\"0\", \"2\", \"7\", \"11\", \"12\", \"13\", \"14\", \"16\", \"21\", \"23\"], \"mode\": \"markers\", \"name\": \"precision_score_micro\", \"stepped\": false, \"type\": \"scatter\", \"data\": [0.7461420932009167, 0.7200407435701554, 0.7708853238265002, 0.7604532722179781, 0.7695951107715814, 0.6849079025549614, 0.7682709447415329, 0.7643663526016466, 0.7500127323656736, 0.7812749342161107]}, {\"categories\": [\"0\", \"2\", \"7\", \"11\", \"12\", \"13\", \"14\", \"16\", \"21\", \"23\"], \"mode\": \"lines\", \"name\": \"precision_score_micro_max\", \"stepped\": true, \"type\": \"scatter\", \"data\": [0.7461420932009167, 0.7461420932009167, 0.7708853238265002, 0.7708853238265002, 0.7708853238265002, 0.7708853238265002, 0.7708853238265002, 0.7708853238265002, 0.7708853238265002, 0.7812749342161107]}], \"log_loss\": [{\"categories\": [\"0\", \"2\", \"7\", \"11\", \"12\", \"13\", \"14\", \"16\", \"21\", \"23\"], \"mode\": \"markers\", \"name\": \"log_loss\", \"stepped\": false, \"type\": \"scatter\", \"data\": [0.6332711438725427, 0.5897080210261503, 0.49055350533314834, 0.49217798310715344, 0.49044964883292064, 0.634883436524164, 0.4966300005319626, 0.49920777859946985, 0.5107551236734987, 0.4791120415700039]}, {\"categories\": [\"0\", \"2\", \"7\", \"11\", \"12\", \"13\", \"14\", \"16\", \"21\", \"23\"], \"mode\": \"lines\", \"name\": \"log_loss_min\", \"stepped\": true, \"type\": \"scatter\", \"data\": [0.6332711438725427, 0.5897080210261503, 0.49055350533314834, 0.49055350533314834, 0.49044964883292064, 0.49044964883292064, 0.49044964883292064, 0.49044964883292064, 0.49044964883292064, 0.4791120415700039]}], \"accuracy\": [{\"categories\": [\"0\", \"2\", \"7\", \"11\", \"12\", \"13\", \"14\", \"16\", \"21\", \"23\"], \"mode\": \"markers\", \"name\": \"accuracy\", \"stepped\": false, \"type\": \"scatter\", \"data\": [0.7461420932009167, 0.7200407435701554, 0.7708853238265002, 0.7604532722179781, 0.7695951107715814, 0.6849079025549614, 0.7682709447415329, 0.7643663526016466, 0.7500127323656736, 0.7812749342161107]}, {\"categories\": [\"0\", \"2\", \"7\", \"11\", \"12\", \"13\", \"14\", \"16\", \"21\", \"23\"], \"mode\": \"lines\", \"name\": \"accuracy_max\", \"stepped\": true, \"type\": \"scatter\", \"data\": [0.7461420932009167, 0.7461420932009167, 0.7708853238265002, 0.7708853238265002, 0.7708853238265002, 0.7708853238265002, 0.7708853238265002, 0.7708853238265002, 0.7708853238265002, 0.7812749342161107]}], \"precision_score_macro\": [{\"categories\": [\"0\", \"2\", \"7\", \"11\", \"12\", \"13\", \"14\", \"16\", \"21\", \"23\"], \"mode\": \"markers\", \"name\": \"precision_score_macro\", \"stepped\": false, \"type\": \"scatter\", \"data\": [0.7177702021983517, 0.7000615322271857, 0.7562792634857433, 0.7355962286152488, 0.7542431022889781, 0.6670893700317199, 0.7480303498697732, 0.7469141419740739, 0.72239482909525, 0.7647630509324876]}, {\"categories\": [\"0\", \"2\", \"7\", \"11\", \"12\", \"13\", \"14\", \"16\", \"21\", \"23\"], \"mode\": \"lines\", \"name\": \"precision_score_macro_max\", \"stepped\": true, \"type\": \"scatter\", \"data\": [0.7177702021983517, 0.7177702021983517, 0.7562792634857433, 0.7562792634857433, 0.7562792634857433, 0.7562792634857433, 0.7562792634857433, 0.7562792634857433, 0.7562792634857433, 0.7647630509324876]}], \"f1_score_macro\": [{\"categories\": [\"0\", \"2\", \"7\", \"11\", \"12\", \"13\", \"14\", \"16\", \"21\", \"23\"], \"mode\": \"markers\", \"name\": \"f1_score_macro\", \"stepped\": false, \"type\": \"scatter\", \"data\": [0.7131441235902838, 0.700922619334914, 0.7263154247821936, 0.7241796680072852, 0.7280893658517833, 0.6662429231500526, 0.7345199296733886, 0.7239925180014714, 0.715595685770897, 0.7418364644716627]}, {\"categories\": [\"0\", \"2\", \"7\", \"11\", \"12\", \"13\", \"14\", \"16\", \"21\", \"23\"], \"mode\": \"lines\", \"name\": \"f1_score_macro_max\", \"stepped\": true, \"type\": \"scatter\", \"data\": [0.7131441235902838, 0.7131441235902838, 0.7263154247821936, 0.7263154247821936, 0.7280893658517833, 0.7280893658517833, 0.7345199296733886, 0.7345199296733886, 0.7345199296733886, 0.7418364644716627]}], \"recall_score_weighted\": [{\"categories\": [\"0\", \"2\", \"7\", \"11\", \"12\", \"13\", \"14\", \"16\", \"21\", \"23\"], \"mode\": \"markers\", \"name\": \"recall_score_weighted\", \"stepped\": false, \"type\": \"scatter\", \"data\": [0.7461420932009167, 0.7200407435701554, 0.7708853238265002, 0.7604532722179781, 0.7695951107715814, 0.6849079025549614, 0.7682709447415329, 0.7643663526016466, 0.7500127323656736, 0.7812749342161107]}, {\"categories\": [\"0\", \"2\", \"7\", \"11\", \"12\", \"13\", \"14\", \"16\", \"21\", \"23\"], \"mode\": \"lines\", \"name\": \"recall_score_weighted_max\", \"stepped\": true, \"type\": \"scatter\", \"data\": [0.7461420932009167, 0.7461420932009167, 0.7708853238265002, 0.7708853238265002, 0.7708853238265002, 0.7708853238265002, 0.7708853238265002, 0.7708853238265002, 0.7708853238265002, 0.7812749342161107]}], \"average_precision_score_macro\": [{\"categories\": [\"0\", \"2\", \"7\", \"11\", \"12\", \"13\", \"14\", \"16\", \"21\", \"23\"], \"mode\": \"markers\", \"name\": \"average_precision_score_macro\", \"stepped\": false, \"type\": \"scatter\", \"data\": [0.7826874243830495, 0.7814100071785282, 0.8026305775688785, 0.7917527111967108, 0.8048931048525725, 0.7496160139448846, 0.7946455899411944, 0.7928839411637225, 0.7889666076320931, 0.8173638178791622]}, {\"categories\": [\"0\", \"2\", \"7\", \"11\", \"12\", \"13\", \"14\", \"16\", \"21\", \"23\"], \"mode\": \"lines\", \"name\": \"average_precision_score_macro_max\", \"stepped\": true, \"type\": \"scatter\", \"data\": [0.7826874243830495, 0.7826874243830495, 0.8026305775688785, 0.8026305775688785, 0.8048931048525725, 0.8048931048525725, 0.8048931048525725, 0.8048931048525725, 0.8048931048525725, 0.8173638178791622]}], \"average_precision_score_weighted\": [{\"categories\": [\"0\", \"2\", \"7\", \"11\", \"12\", \"13\", \"14\", \"16\", \"21\", \"23\"], \"mode\": \"markers\", \"name\": \"average_precision_score_weighted\", \"stepped\": false, \"type\": \"scatter\", \"data\": [0.8159197901628463, 0.816516033353454, 0.8317398671359589, 0.8237597456631619, 0.8332214141922638, 0.7801512936561992, 0.8235299120812949, 0.8205079858070417, 0.8207989352916092, 0.8467245370518082]}, {\"categories\": [\"0\", \"2\", \"7\", \"11\", \"12\", \"13\", \"14\", \"16\", \"21\", \"23\"], \"mode\": \"lines\", \"name\": \"average_precision_score_weighted_max\", \"stepped\": true, \"type\": \"scatter\", \"data\": [0.8159197901628463, 0.816516033353454, 0.8317398671359589, 0.8317398671359589, 0.8332214141922638, 0.8332214141922638, 0.8332214141922638, 0.8332214141922638, 0.8332214141922638, 0.8467245370518082]}]}, \"metricName\": null, \"primaryMetricName\": \"accuracy\", \"showLegend\": false}, \"run_metrics\": [{\"name\": \"experiment_status\", \"run_id\": \"AutoML_b758f7f2-c89e-4c95-a80e-f034cbc4397f\", \"categories\": [0, 1, 2, 3, 4, 5, 6, 7, 8, 9, 10, 11, 12, 13], \"series\": [{\"data\": [\"DatasetEvaluation\", \"FeaturesGeneration\", \"DatasetFeaturization\", \"DatasetFeaturizationCompleted\", \"DatasetCrossValidationSplit\", \"ModelSelection\", \"BestRunExplainModel\", \"ModelExplanationDataSetSetup\", \"PickSurrogateModel\", \"EngineeredFeatureExplanations\", \"EngineeredFeatureExplanations\", \"RawFeaturesExplanations\", \"RawFeaturesExplanations\", \"BestRunExplainModel\"]}]}, {\"name\": \"experiment_status_description\", \"run_id\": \"AutoML_b758f7f2-c89e-4c95-a80e-f034cbc4397f\", \"categories\": [0, 1, 2, 3, 4, 5, 6, 7, 8, 9, 10, 11, 12, 13], \"series\": [{\"data\": [\"Gathering dataset statistics.\", \"Generating features for the dataset.\", \"Beginning to fit featurizers and featurize the dataset.\", \"Completed fit featurizers and featurizing the dataset.\", \"Generating individually featurized CV splits.\", \"Beginning model selection.\", \"Best run model explanations started\", \"Model explanations data setup completed\", \"Choosing LightGBM as the surrogate model for explanations\", \"Computation of engineered features started\", \"Computation of engineered features completed\", \"Computation of raw features started\", \"Computation of raw features completed\", \"Best run model explanations completed\"]}]}, {\"name\": \"matthews_correlation\", \"run_id\": \"AutoML_b758f7f2-c89e-4c95-a80e-f034cbc4397f\", \"categories\": [0], \"series\": [{\"data\": [0.512702373578805]}]}, {\"name\": \"AUC_weighted\", \"run_id\": \"AutoML_b758f7f2-c89e-4c95-a80e-f034cbc4397f\", \"categories\": [0], \"series\": [{\"data\": [0.8381527662276721]}]}, {\"name\": \"average_precision_score_macro\", \"run_id\": \"AutoML_b758f7f2-c89e-4c95-a80e-f034cbc4397f\", \"categories\": [0], \"series\": [{\"data\": [0.8178696574747437]}]}, {\"name\": \"balanced_accuracy\", \"run_id\": \"AutoML_b758f7f2-c89e-4c95-a80e-f034cbc4397f\", \"categories\": [0], \"series\": [{\"data\": [0.7439080598345715]}]}, {\"name\": \"average_precision_score_weighted\", \"run_id\": \"AutoML_b758f7f2-c89e-4c95-a80e-f034cbc4397f\", \"categories\": [0], \"series\": [{\"data\": [0.8474075662713687]}]}, {\"name\": \"f1_score_micro\", \"run_id\": \"AutoML_b758f7f2-c89e-4c95-a80e-f034cbc4397f\", \"categories\": [0], \"series\": [{\"data\": [0.7864952041422629]}]}, {\"name\": \"recall_score_macro\", \"run_id\": \"AutoML_b758f7f2-c89e-4c95-a80e-f034cbc4397f\", \"categories\": [0], \"series\": [{\"data\": [0.7439080598345715]}]}, {\"name\": \"accuracy\", \"run_id\": \"AutoML_b758f7f2-c89e-4c95-a80e-f034cbc4397f\", \"categories\": [0], \"series\": [{\"data\": [0.7864952041422629]}]}, {\"name\": \"average_precision_score_micro\", \"run_id\": \"AutoML_b758f7f2-c89e-4c95-a80e-f034cbc4397f\", \"categories\": [0], \"series\": [{\"data\": [0.8576296454156462]}]}, {\"name\": \"weighted_accuracy\", \"run_id\": \"AutoML_b758f7f2-c89e-4c95-a80e-f034cbc4397f\", \"categories\": [0], \"series\": [{\"data\": [0.819969798589846]}]}, {\"name\": \"precision_score_weighted\", \"run_id\": \"AutoML_b758f7f2-c89e-4c95-a80e-f034cbc4397f\", \"categories\": [0], \"series\": [{\"data\": [0.7851944778299144]}]}, {\"name\": \"AUC_macro\", \"run_id\": \"AutoML_b758f7f2-c89e-4c95-a80e-f034cbc4397f\", \"categories\": [0], \"series\": [{\"data\": [0.8381527662276721]}]}, {\"name\": \"norm_macro_recall\", \"run_id\": \"AutoML_b758f7f2-c89e-4c95-a80e-f034cbc4397f\", \"categories\": [0], \"series\": [{\"data\": [0.48781611966914296]}]}, {\"name\": \"precision_score_macro\", \"run_id\": \"AutoML_b758f7f2-c89e-4c95-a80e-f034cbc4397f\", \"categories\": [0], \"series\": [{\"data\": [0.7697888288685548]}]}, {\"name\": \"recall_score_weighted\", \"run_id\": \"AutoML_b758f7f2-c89e-4c95-a80e-f034cbc4397f\", \"categories\": [0], \"series\": [{\"data\": [0.7864952041422629]}]}, {\"name\": \"AUC_micro\", \"run_id\": \"AutoML_b758f7f2-c89e-4c95-a80e-f034cbc4397f\", \"categories\": [0], \"series\": [{\"data\": [0.8573569822966908]}]}, {\"name\": \"precision_score_micro\", \"run_id\": \"AutoML_b758f7f2-c89e-4c95-a80e-f034cbc4397f\", \"categories\": [0], \"series\": [{\"data\": [0.7864952041422629]}]}, {\"name\": \"log_loss\", \"run_id\": \"AutoML_b758f7f2-c89e-4c95-a80e-f034cbc4397f\", \"categories\": [0], \"series\": [{\"data\": [0.4985307176656496]}]}, {\"name\": \"f1_score_macro\", \"run_id\": \"AutoML_b758f7f2-c89e-4c95-a80e-f034cbc4397f\", \"categories\": [0], \"series\": [{\"data\": [0.7510820643109485]}]}, {\"name\": \"recall_score_micro\", \"run_id\": \"AutoML_b758f7f2-c89e-4c95-a80e-f034cbc4397f\", \"categories\": [0], \"series\": [{\"data\": [0.7864952041422629]}]}, {\"name\": \"f1_score_weighted\", \"run_id\": \"AutoML_b758f7f2-c89e-4c95-a80e-f034cbc4397f\", \"categories\": [0], \"series\": [{\"data\": [0.7809235909672064]}]}], \"run_logs\": \"\\nRun is completed.\", \"graph\": {}, \"widget_settings\": {\"childWidgetDisplay\": \"popup\", \"send_telemetry\": false, \"log_level\": \"INFO\", \"sdk_version\": \"1.47.0\"}, \"loading\": false}"
     },
     "metadata": {},
     "output_type": "display_data"
    }
   ],
   "source": [
    "RunDetails(remote_run).show()"
   ]
  },
  {
   "cell_type": "code",
   "execution_count": 45,
   "metadata": {},
   "outputs": [
    {
     "data": {
      "text/html": [
       "<table style=\"width:100%\"><tr><th>Experiment</th><th>Id</th><th>Type</th><th>Status</th><th>Details Page</th><th>Docs Page</th></tr><tr><td>automl</td><td>AutoML_b758f7f2-c89e-4c95-a80e-f034cbc4397f</td><td>automl</td><td>Completed</td><td><a href=\"https://ml.azure.com/runs/AutoML_b758f7f2-c89e-4c95-a80e-f034cbc4397f?wsid=/subscriptions/9b72f9e6-56c5-4c16-991b-19c652994860/resourcegroups/aml-quickstarts-222426/workspaces/quick-starts-ws-222426&amp;tid=660b3398-b80e-49d2-bc5b-ac1dc93b5254\" target=\"_blank\" rel=\"noopener\">Link to Azure Machine Learning studio</a></td><td><a href=\"https://docs.microsoft.com/en-us/python/api/overview/azure/ml/intro?view=azure-ml-py\" target=\"_blank\" rel=\"noopener\">Link to Documentation</a></td></tr></table>"
      ],
      "text/plain": [
       "<IPython.core.display.HTML object>"
      ]
     },
     "metadata": {},
     "output_type": "display_data"
    },
    {
     "name": "stdout",
     "output_type": "stream",
     "text": [
      "\n",
      "\n",
      "********************************************************************************************\n",
      "DATA GUARDRAILS: \n",
      "\n",
      "TYPE:         Class balancing detection\n",
      "STATUS:       PASSED\n",
      "DESCRIPTION:  Your inputs were analyzed, and all classes are balanced in your training data.\n",
      "              Learn more about imbalanced data: https://aka.ms/AutomatedMLImbalancedData\n",
      "\n",
      "********************************************************************************************\n",
      "\n",
      "TYPE:         Missing feature values imputation\n",
      "STATUS:       PASSED\n",
      "DESCRIPTION:  No feature missing values were detected in the training data.\n",
      "              Learn more about missing value imputation: https://aka.ms/AutomatedMLFeaturization\n",
      "\n",
      "********************************************************************************************\n",
      "\n",
      "TYPE:         High cardinality feature detection\n",
      "STATUS:       PASSED\n",
      "DESCRIPTION:  Your inputs were analyzed, and no high cardinality features were detected.\n",
      "              Learn more about high cardinality feature handling: https://aka.ms/AutomatedMLFeaturization\n",
      "\n",
      "********************************************************************************************\n",
      "\n",
      "********************************************************************************************\n",
      "ITER: The iteration being evaluated.\n",
      "PIPELINE: A summary description of the pipeline being evaluated.\n",
      "DURATION: Time taken for the current iteration.\n",
      "METRIC: The result of computing score on the fitted pipeline.\n",
      "BEST: The best observed score thus far.\n",
      "********************************************************************************************\n",
      "\n",
      " ITER   PIPELINE                                       DURATION            METRIC      BEST\n",
      "    0   MaxAbsScaler LightGBM                          0:00:08             0.7461    0.7461\n",
      "    1   MaxAbsScaler XGBoostClassifier                 0:00:14             0.7500    0.7500\n",
      "    2   MaxAbsScaler ExtremeRandomTrees                0:00:13             0.7200    0.7500\n",
      "    3   SparseNormalizer XGBoostClassifier             0:00:13             0.6785    0.7500\n",
      "    4   MaxAbsScaler LightGBM                          0:00:12             0.7605    0.7605\n",
      "    5   MaxAbsScaler LightGBM                          0:00:08             0.7228    0.7605\n",
      "    6   StandardScalerWrapper XGBoostClassifier        0:00:12             0.7514    0.7605\n",
      "    7   MaxAbsScaler LogisticRegression                0:00:12             0.7709    0.7709\n",
      "   10   SparseNormalizer LightGBM                      0:00:10             0.6785    0.7709\n",
      "   11   StandardScalerWrapper XGBoostClassifier        0:00:09             0.7605    0.7709\n",
      "    8   StandardScalerWrapper ExtremeRandomTrees       0:00:08             0.6511    0.7709\n",
      "    9   StandardScalerWrapper XGBoostClassifier        0:00:13             0.7501    0.7709\n",
      "   12   MaxAbsScaler LogisticRegression                0:00:13             0.7696    0.7709\n",
      "   13   MaxAbsScaler SGD                               0:00:08             0.6849    0.7709\n",
      "   14   StandardScalerWrapper XGBoostClassifier        0:00:13             0.7683    0.7709\n",
      "   15   SparseNormalizer RandomForest                  0:00:11             0.6980    0.7709\n",
      "   16   StandardScalerWrapper LogisticRegression       0:00:13             0.7644    0.7709\n",
      "   17   StandardScalerWrapper RandomForest             0:00:08             0.7618    0.7709\n",
      "   18   StandardScalerWrapper XGBoostClassifier        0:00:09             0.7657    0.7709\n",
      "   19   TruncatedSVDWrapper RandomForest               0:00:14             0.7240    0.7709\n",
      "   20   TruncatedSVDWrapper RandomForest               0:01:18             0.7410    0.7709\n",
      "   21   StandardScalerWrapper XGBoostClassifier        0:00:28             0.7500    0.7709\n",
      "   22    VotingEnsemble                                0:00:39             0.7865    0.7865\n",
      "   23    StackEnsemble                                 0:00:45             0.7813    0.7865\n"
     ]
    },
    {
     "data": {
      "text/plain": [
       "{'runId': 'AutoML_b758f7f2-c89e-4c95-a80e-f034cbc4397f',\n",
       " 'target': 'cluster',\n",
       " 'status': 'Completed',\n",
       " 'startTimeUtc': '2023-01-13T14:45:08.654814Z',\n",
       " 'endTimeUtc': '2023-01-13T14:56:10.564462Z',\n",
       " 'services': {},\n",
       " 'properties': {'num_iterations': '24',\n",
       "  'training_type': 'TrainFull',\n",
       "  'acquisition_function': 'EI',\n",
       "  'primary_metric': 'accuracy',\n",
       "  'train_split': '0',\n",
       "  'acquisition_parameter': '0',\n",
       "  'num_cross_validation': '5',\n",
       "  'target': 'cluster',\n",
       "  'AMLSettingsJsonString': '{\"path\":null,\"name\":\"automl\",\"subscription_id\":\"9b72f9e6-56c5-4c16-991b-19c652994860\",\"resource_group\":\"aml-quickstarts-222426\",\"workspace_name\":\"quick-starts-ws-222426\",\"region\":\"southcentralus\",\"compute_target\":\"cluster\",\"spark_service\":null,\"azure_service\":\"remote\",\"many_models\":false,\"pipeline_fetch_max_batch_size\":1,\"enable_batch_run\":true,\"enable_parallel_run\":false,\"num_procs\":null,\"enable_run_restructure\":false,\"start_auxiliary_runs_before_parent_complete\":false,\"enable_code_generation\":true,\"iterations\":24,\"primary_metric\":\"accuracy\",\"task_type\":\"classification\",\"positive_label\":null,\"data_script\":null,\"test_size\":0.0,\"test_include_predictions_only\":false,\"validation_size\":0.0,\"n_cross_validations\":5,\"y_min\":null,\"y_max\":null,\"num_classes\":null,\"featurization\":\"auto\",\"_ignore_package_version_incompatibilities\":false,\"is_timeseries\":false,\"max_cores_per_iteration\":1,\"max_concurrent_iterations\":4,\"iteration_timeout_minutes\":null,\"mem_in_mb\":null,\"enforce_time_on_windows\":false,\"experiment_timeout_minutes\":30,\"experiment_exit_score\":null,\"partition_column_names\":null,\"whitelist_models\":null,\"blacklist_algos\":[\"TensorFlowLinearClassifier\",\"TensorFlowDNN\"],\"supported_models\":[\"TabnetClassifier\",\"DecisionTree\",\"LightGBM\",\"TensorFlowLinearClassifier\",\"XGBoostClassifier\",\"SGD\",\"BernoulliNaiveBayes\",\"LinearSVM\",\"TensorFlowDNN\",\"AveragedPerceptronClassifier\",\"ExtremeRandomTrees\",\"KNN\",\"LogisticRegression\",\"GradientBoosting\",\"SVM\",\"MultinomialNaiveBayes\",\"RandomForest\"],\"private_models\":[],\"auto_blacklist\":true,\"blacklist_samples_reached\":false,\"exclude_nan_labels\":true,\"verbosity\":20,\"_debug_log\":\"azureml_automl.log\",\"show_warnings\":false,\"model_explainability\":true,\"service_url\":null,\"sdk_url\":null,\"sdk_packages\":null,\"enable_onnx_compatible_models\":false,\"enable_split_onnx_featurizer_estimator_models\":false,\"vm_type\":\"STANDARD_DS3_V2\",\"telemetry_verbosity\":20,\"send_telemetry\":true,\"enable_dnn\":false,\"scenario\":\"AutoML\",\"environment_label\":null,\"save_mlflow\":false,\"enable_categorical_indicators\":false,\"force_text_dnn\":false,\"enable_feature_sweeping\":true,\"enable_early_stopping\":true,\"early_stopping_n_iters\":10,\"arguments\":null,\"dataset_id\":\"8afc90c6-af56-4339-978b-781db6b09589\",\"hyperdrive_config\":null,\"validation_dataset_id\":null,\"run_source\":null,\"metrics\":null,\"enable_metric_confidence\":false,\"enable_ensembling\":true,\"enable_stack_ensembling\":true,\"ensemble_iterations\":15,\"enable_tf\":false,\"enable_subsampling\":false,\"subsample_seed\":null,\"enable_nimbusml\":false,\"enable_streaming\":false,\"force_streaming\":false,\"track_child_runs\":true,\"n_best_runs\":1,\"allowed_private_models\":[],\"label_column_name\":\"Outcome\",\"weight_column_name\":null,\"cv_split_column_names\":null,\"enable_local_managed\":false,\"_local_managed_run_id\":null,\"cost_mode\":1,\"lag_length\":0,\"metric_operation\":\"maximize\",\"preprocess\":true}',\n",
       "  'DataPrepJsonString': '{\\\\\"training_data\\\\\": {\\\\\"datasetId\\\\\": \\\\\"8afc90c6-af56-4339-978b-781db6b09589\\\\\"}, \\\\\"datasets\\\\\": 0}',\n",
       "  'EnableSubsampling': 'False',\n",
       "  'runTemplate': 'AutoML',\n",
       "  'azureml.runsource': 'automl',\n",
       "  'display_task_type': 'classification',\n",
       "  'dependencies_versions': '{\"azureml-widgets\": \"1.47.0\", \"azureml-training-tabular\": \"1.47.0\", \"azureml-train\": \"1.47.0\", \"azureml-train-restclients-hyperdrive\": \"1.47.0\", \"azureml-train-core\": \"1.47.0\", \"azureml-train-automl\": \"1.47.0\", \"azureml-train-automl-runtime\": \"1.47.0\", \"azureml-train-automl-client\": \"1.47.0\", \"azureml-tensorboard\": \"1.47.0\", \"azureml-telemetry\": \"1.47.0\", \"azureml-sdk\": \"1.47.0\", \"azureml-samples\": \"0+unknown\", \"azureml-responsibleai\": \"1.47.0\", \"azureml-pipeline\": \"1.47.0\", \"azureml-pipeline-steps\": \"1.47.0\", \"azureml-pipeline-core\": \"1.47.0\", \"azureml-opendatasets\": \"1.47.0\", \"azureml-mlflow\": \"1.47.0\", \"azureml-interpret\": \"1.47.0\", \"azureml-inference-server-http\": \"0.7.6\", \"azureml-explain-model\": \"1.47.0\", \"azureml-defaults\": \"1.47.0\", \"azureml-dataset-runtime\": \"1.47.0\", \"azureml-dataprep\": \"4.5.7\", \"azureml-dataprep-rslex\": \"2.11.4\", \"azureml-dataprep-native\": \"38.0.0\", \"azureml-datadrift\": \"1.47.0\", \"azureml-core\": \"1.47.0\", \"azureml-contrib-services\": \"1.47.0\", \"azureml-contrib-server\": \"1.47.0\", \"azureml-contrib-reinforcementlearning\": \"1.47.0\", \"azureml-contrib-pipeline-steps\": \"1.47.0\", \"azureml-contrib-notebook\": \"1.47.0\", \"azureml-contrib-fairness\": \"1.47.0\", \"azureml-contrib-dataset\": \"1.47.0\", \"azureml-contrib-automl-pipeline-steps\": \"1.47.0\", \"azureml-cli-common\": \"1.47.0\", \"azureml-automl-runtime\": \"1.47.0\", \"azureml-automl-dnn-nlp\": \"1.47.0\", \"azureml-automl-core\": \"1.47.0\", \"azureml-accel-models\": \"1.47.0\"}',\n",
       "  '_aml_system_scenario_identification': 'Remote.Parent',\n",
       "  'ClientType': 'SDK',\n",
       "  'environment_cpu_name': 'AzureML-AutoML',\n",
       "  'environment_cpu_label': 'prod',\n",
       "  'environment_gpu_name': 'AzureML-AutoML-GPU',\n",
       "  'environment_gpu_label': 'prod',\n",
       "  'root_attribution': 'automl',\n",
       "  'attribution': 'AutoML',\n",
       "  'Orchestrator': 'AutoML',\n",
       "  'CancelUri': 'https://southcentralus.api.azureml.ms/jasmine/v1.0/subscriptions/9b72f9e6-56c5-4c16-991b-19c652994860/resourceGroups/aml-quickstarts-222426/providers/Microsoft.MachineLearningServices/workspaces/quick-starts-ws-222426/experimentids/cbf0a169-0c08-44f6-9f6e-cabdd8a054c2/cancel/AutoML_b758f7f2-c89e-4c95-a80e-f034cbc4397f',\n",
       "  'ClientSdkVersion': '1.48.0',\n",
       "  'snapshotId': '00000000-0000-0000-0000-000000000000',\n",
       "  'SetupRunId': 'AutoML_b758f7f2-c89e-4c95-a80e-f034cbc4397f_setup',\n",
       "  'SetupRunContainerId': 'dcid.AutoML_b758f7f2-c89e-4c95-a80e-f034cbc4397f_setup',\n",
       "  'FeaturizationRunJsonPath': 'featurizer_container.json',\n",
       "  'FeaturizationRunId': 'AutoML_b758f7f2-c89e-4c95-a80e-f034cbc4397f_featurize',\n",
       "  'ProblemInfoJsonString': '{\"dataset_num_categorical\": 0, \"is_sparse\": true, \"subsampling\": false, \"has_extra_col\": true, \"dataset_classes\": 2, \"dataset_features\": 24, \"dataset_samples\": 768, \"single_frequency_class_detected\": false}',\n",
       "  'ModelExplainRunId': 'AutoML_b758f7f2-c89e-4c95-a80e-f034cbc4397f_ModelExplain'},\n",
       " 'inputDatasets': [{'dataset': {'id': '8afc90c6-af56-4339-978b-781db6b09589'}, 'consumptionDetails': {'type': 'RunInput', 'inputName': 'training_data', 'mechanism': 'Direct'}}],\n",
       " 'outputDatasets': [],\n",
       " 'logFiles': {},\n",
       " 'submittedBy': 'ODL_User 222426'}"
      ]
     },
     "execution_count": 45,
     "metadata": {},
     "output_type": "execute_result"
    }
   ],
   "source": [
    "remote_run.wait_for_completion(show_output=True)"
   ]
  },
  {
   "cell_type": "code",
   "execution_count": 46,
   "metadata": {},
   "outputs": [
    {
     "data": {
      "text/html": [
       "<table style=\"width:100%\"><tr><th>Experiment</th><th>Id</th><th>Type</th><th>Status</th><th>Details Page</th><th>Docs Page</th></tr><tr><td>automl</td><td>AutoML_b758f7f2-c89e-4c95-a80e-f034cbc4397f</td><td>automl</td><td>Completed</td><td><a href=\"https://ml.azure.com/runs/AutoML_b758f7f2-c89e-4c95-a80e-f034cbc4397f?wsid=/subscriptions/9b72f9e6-56c5-4c16-991b-19c652994860/resourcegroups/aml-quickstarts-222426/workspaces/quick-starts-ws-222426&amp;tid=660b3398-b80e-49d2-bc5b-ac1dc93b5254\" target=\"_blank\" rel=\"noopener\">Link to Azure Machine Learning studio</a></td><td><a href=\"https://docs.microsoft.com/en-us/python/api/overview/azure/ml/intro?view=azure-ml-py\" target=\"_blank\" rel=\"noopener\">Link to Documentation</a></td></tr></table>"
      ],
      "text/plain": [
       "Run(Experiment: automl,\n",
       "Id: AutoML_b758f7f2-c89e-4c95-a80e-f034cbc4397f,\n",
       "Type: automl,\n",
       "Status: Completed)"
      ]
     },
     "execution_count": 46,
     "metadata": {},
     "output_type": "execute_result"
    }
   ],
   "source": [
    "remote_run"
   ]
  },
  {
   "cell_type": "markdown",
   "metadata": {},
   "source": [
    "## Best Model\n",
    "\n",
    "The cell below shows the best model from the automl experiments and display all the properties of the model.\n",
    "\n"
   ]
  },
  {
   "cell_type": "code",
   "execution_count": 47,
   "metadata": {
    "gather": {
     "logged": 1598431425670
    },
    "jupyter": {
     "outputs_hidden": false,
     "source_hidden": false
    },
    "nteract": {
     "transient": {
      "deleting": false
     }
    }
   },
   "outputs": [
    {
     "name": "stderr",
     "output_type": "stream",
     "text": [
      "WARNING:root:The version of the SDK does not match the version the model was trained on.\n",
      "WARNING:root:The consistency in the result may not be guaranteed.\n",
      "WARNING:root:Package:azureml-automl-core, training version:1.48.0, current version:1.47.0\n",
      "Package:azureml-automl-runtime, training version:1.48.0.post1, current version:1.47.0\n",
      "Package:azureml-core, training version:1.48.0, current version:1.47.0\n",
      "Package:azureml-dataprep, training version:4.8.3, current version:4.5.7\n",
      "Package:azureml-dataprep-rslex, training version:2.15.1, current version:2.11.4\n",
      "Package:azureml-dataset-runtime, training version:1.48.0, current version:1.47.0\n",
      "Package:azureml-defaults, training version:1.48.0, current version:1.47.0\n",
      "Package:azureml-interpret, training version:1.48.0, current version:1.47.0\n",
      "Package:azureml-mlflow, training version:1.48.0, current version:1.47.0\n",
      "Package:azureml-pipeline-core, training version:1.48.0, current version:1.47.0\n",
      "Package:azureml-responsibleai, training version:1.48.0, current version:1.47.0\n",
      "Package:azureml-telemetry, training version:1.48.0, current version:1.47.0\n",
      "Package:azureml-train-automl-client, training version:1.48.0, current version:1.47.0\n",
      "Package:azureml-train-automl-runtime, training version:1.48.0, current version:1.47.0\n",
      "Package:azureml-train-core, training version:1.48.0, current version:1.47.0\n",
      "Package:azureml-train-restclients-hyperdrive, training version:1.48.0, current version:1.47.0\n",
      "Package:azureml-training-tabular, training version:1.48.0, current version:1.47.0\n",
      "WARNING:root:Please ensure the version of your local conda dependencies match the version on which your model was trained in order to properly retrieve your model.\n"
     ]
    },
    {
     "name": "stdout",
     "output_type": "stream",
     "text": [
      "Run(Experiment: automl,\n",
      "Id: AutoML_b758f7f2-c89e-4c95-a80e-f034cbc4397f_22,\n",
      "Type: azureml.scriptrun,\n",
      "Status: Completed)\n",
      "[('datatransformer', DataTransformer(enable_dnn=False, enable_feature_sweeping=True, feature_sweeping_config={}, feature_sweeping_timeout=86400, featurization_config=None, force_text_dnn=False, is_cross_validation=True, is_onnx_compatible=False, task='classification')), ('prefittedsoftvotingclassifier', PreFittedSoftVotingClassifier(classification_labels=numpy.array([0, 1]), estimators=[('7', Pipeline(memory=None, steps=[('maxabsscaler', MaxAbsScaler(copy=True)), ('logisticregression', LogisticRegression(C=1.7575106248547894, class_weight=None, dual=False, fit_intercept=True, intercept_scaling=1, l1_ratio=None, max_iter=100, multi_class='multinomial', n_jobs=1, penalty='l2', random_state=None, solver='lbfgs', tol=0.0001, verbose=0, warm_start=False))], verbose=False)), ('12', Pipeline(memory=None, steps=[('maxabsscaler', MaxAbsScaler(copy=True)), ('logisticregression', LogisticRegression(C=719.6856730011514, class_weight=None, dual=False, fit_intercept=True, intercept_scaling=1, l1_ratio=None, max_iter=100, multi_class='multinomial', n_jobs=1, penalty='l2', random_state=None, solver='lbfgs', tol=0.0001, verbose=0, warm_start=False))], verbose=False)), ('14', Pipeline(memory=None, steps=[('standardscalerwrapper', StandardScalerWrapper(copy=True, with_mean=False, with_std=False)), ('xgboostclassifier', XGBoostClassifier(booster='gbtree', colsample_bytree=1, eta=0.3, gamma=0, max_depth=10, max_leaves=511, n_estimators=10, n_jobs=1, objective='reg:logistic', problem_info=ProblemInfo(gpu_training_param_dict={'processing_unit_type': 'cpu'}), random_state=0, reg_alpha=2.1875, reg_lambda=0.4166666666666667, subsample=0.5, tree_method='auto'))], verbose=False)), ('18', Pipeline(memory=None, steps=[('standardscalerwrapper', StandardScalerWrapper(copy=True, with_mean=False, with_std=False)), ('xgboostclassifier', XGBoostClassifier(booster='gbtree', colsample_bytree=0.7, eta=0.1, gamma=0.1, max_depth=9, max_leaves=511, n_estimators=25, n_jobs=1, objective='reg:logistic', problem_info=ProblemInfo(gpu_training_param_dict={'processing_unit_type': 'cpu'}), random_state=0, reg_alpha=0, reg_lambda=1.7708333333333335, subsample=0.9, tree_method='auto'))], verbose=False)), ('16', Pipeline(memory=None, steps=[('standardscalerwrapper', StandardScalerWrapper(copy=True, with_mean=False, with_std=False)), ('logisticregression', LogisticRegression(C=51.79474679231202, class_weight=None, dual=False, fit_intercept=True, intercept_scaling=1, l1_ratio=None, max_iter=100, multi_class='ovr', n_jobs=1, penalty='l2', random_state=None, solver='lbfgs', tol=0.0001, verbose=0, warm_start=False))], verbose=False)), ('11', Pipeline(memory=None, steps=[('standardscalerwrapper', StandardScalerWrapper(copy=True, with_mean=False, with_std=False)), ('xgboostclassifier', XGBoostClassifier(booster='gbtree', colsample_bytree=0.6, eta=0.3, gamma=0, max_depth=6, max_leaves=0, n_estimators=10, n_jobs=1, objective='reg:logistic', problem_info=ProblemInfo(gpu_training_param_dict={'processing_unit_type': 'cpu'}), random_state=0, reg_alpha=0.3125, reg_lambda=2.3958333333333335, subsample=1, tree_method='auto'))], verbose=False)), ('6', Pipeline(memory=None, steps=[('standardscalerwrapper', StandardScalerWrapper(copy=True, with_mean=False, with_std=False)), ('xgboostclassifier', XGBoostClassifier(booster='gbtree', colsample_bytree=0.5, eta=0.3, gamma=0, max_depth=10, max_leaves=255, n_estimators=10, n_jobs=1, objective='reg:logistic', problem_info=ProblemInfo(gpu_training_param_dict={'processing_unit_type': 'cpu'}), random_state=0, reg_alpha=0, reg_lambda=0.10416666666666667, subsample=0.7, tree_method='auto'))], verbose=False)), ('13', Pipeline(memory=None, steps=[('maxabsscaler', MaxAbsScaler(copy=True)), ('sgdclassifierwrapper', SGDClassifierWrapper(alpha=7.5510448979591835, class_weight='balanced', eta0=0.001, fit_intercept=True, l1_ratio=0.42857142857142855, learning_rate='constant', loss='modified_huber', max_iter=1000, n_jobs=1, penalty='none', power_t=0.7777777777777777, random_state=None, tol=0.0001))], verbose=False)), ('3', Pipeline(memory=None, steps=[('sparsenormalizer', Normalizer(copy=True, norm='l2')), ('xgboostclassifier', XGBoostClassifier(booster='gbtree', colsample_bytree=0.7, eta=0.01, gamma=0.01, max_depth=7, max_leaves=31, n_estimators=10, n_jobs=1, objective='reg:logistic', problem_info=ProblemInfo(gpu_training_param_dict={'processing_unit_type': 'cpu'}), random_state=0, reg_alpha=2.1875, reg_lambda=1.0416666666666667, subsample=1, tree_method='auto'))], verbose=False))], flatten_transform=None, weights=[0.09090909090909091, 0.09090909090909091, 0.09090909090909091, 0.09090909090909091, 0.09090909090909091, 0.18181818181818182, 0.09090909090909091, 0.09090909090909091, 0.18181818181818182]))]\n"
     ]
    }
   ],
   "source": [
    "# Retrieve and save best automl model\n",
    "best_model, model = remote_run.get_output()\n",
    "print(best_model)\n",
    "print(model.steps)"
   ]
  },
  {
   "cell_type": "code",
   "execution_count": 48,
   "metadata": {},
   "outputs": [
    {
     "name": "stdout",
     "output_type": "stream",
     "text": [
      "Pipeline(memory=None,\n",
      "         steps=[('datatransformer',\n",
      "                 DataTransformer(enable_dnn=False, enable_feature_sweeping=True, feature_sweeping_config={}, feature_sweeping_timeout=86400, featurization_config=None, force_text_dnn=False, is_cross_validation=True, is_onnx_compatible=False, observer=None, task='classification', working_dir='/mnt/batch/tasks/shared/LS_root/mount...\n",
      "                 PreFittedSoftVotingClassifier(classification_labels=array([0, 1]), estimators=[('7', Pipeline(memory=None, steps=[('maxabsscaler', MaxAbsScaler(copy=True)), ('logisticregression', LogisticRegression(C=1.7575106248547894, class_weight=None, dual=False, fit_intercept=True, intercept_scaling=1, l1_ratio=None, max_iter=100, multi_class='multinomial', n_jobs=1, penalty='l2', random_state=None, solver='lbfgs', tol=0.0001, verbose=0, warm_start=False))], verbose=False)), ('12', Pipeline(memory=None, steps=[('maxabsscaler', MaxAbsScaler(copy=True)), ('logisticregression', LogisticRegression(C=719.6856730011514, class_weight=None, dual=False, fit_intercept=True, intercept_scaling=1, l1_ratio=None, max_iter=100, multi_class='multinomial', n_jobs=1, penalty='l2', random_state=None, solver='lbfgs', tol=0.0001, verbose=0, warm_start=False))], verbose=False)), ('14', Pipeline(memory=None, steps=[('standardscalerwrapper', StandardScalerWrapper(copy=True, with_mean=False, with_std=False)), ('xgboostclassifier', XGBoostClassifier(booster='gbtree', colsample_bytree=1, eta=0.3, gamma=0, max_depth=10, max_leaves=511, n_estimators=10, n_jobs=1, objective='reg:logistic', problem_info=ProblemInfo(gpu_training_param_dict={'processing_unit_type': 'cpu'}), random_state=0, reg_alpha=2.1875, reg_lambda=0.4166666666666667, subsample=0.5, tree_method='auto'))], verbose=False)), ('18', Pipeline(memory=None, steps=[('standardscalerwrapper', StandardScalerWrapper(copy=True, with_mean=False, with_std=False)), ('xgboostclassifier', XGBoostClassifier(booster='gbtree', colsample_bytree=0.7, eta=0.1, gamma=0.1, max_depth=9, max_leaves=511, n_estimators=25, n_jobs=1, objective='reg:logistic', problem_info=ProblemInfo(gpu_training_param_dict={'processing_unit_type': 'cpu'}), random_state=0, reg_alpha=0, reg_lambda=1.7708333333333335, subsample=0.9, tree_method='auto'))], verbose=False)), ('16', Pipeline(memory=None, steps=[('standardscalerwrapper', StandardScalerWrapper(copy=True, with_mean=False, with_std=False)), ('logisticregression', LogisticRegression(C=51.79474679231202, class_weight=None, dual=False, fit_intercept=True, intercept_scaling=1, l1_ratio=None, max_iter=100, multi_class='ovr', n_jobs=1, penalty='l2', random_state=None, solver='lbfgs', tol=0.0001, verbose=0, warm_start=False))], verbose=False)), ('11', Pipeline(memory=None, steps=[('standardscalerwrapper', StandardScalerWrapper(copy=True, with_mean=False, with_std=False)), ('xgboostclassifier', XGBoostClassifier(booster='gbtree', colsample_bytree=0.6, eta=0.3, gamma=0, max_depth=6, max_leaves=0, n_estimators=10, n_jobs=1, objective='reg:logistic', problem_info=ProblemInfo(gpu_training_param_dict={'processing_unit_type': 'cpu'}), random_state=0, reg_alpha=0.3125, reg_lambda=2.3958333333333335, subsample=1, tree_method='auto'))], verbose=False)), ('6', Pipeline(memory=None, steps=[('standardscalerwrapper', StandardScalerWrapper(copy=True, with_mean=False, with_std=False)), ('xgboostclassifier', XGBoostClassifier(booster='gbtree', colsample_bytree=0.5, eta=0.3, gamma=0, max_depth=10, max_leaves=255, n_estimators=10, n_jobs=1, objective='reg:logistic', problem_info=ProblemInfo(gpu_training_param_dict={'processing_unit_type': 'cpu'}), random_state=0, reg_alpha=0, reg_lambda=0.10416666666666667, subsample=0.7, tree_method='auto'))], verbose=False)), ('13', Pipeline(memory=None, steps=[('maxabsscaler', MaxAbsScaler(copy=True)), ('sgdclassifierwrapper', SGDClassifierWrapper(alpha=7.5510448979591835, class_weight='balanced', eta0=0.001, fit_intercept=True, l1_ratio=0.42857142857142855, learning_rate='constant', loss='modified_huber', max_iter=1000, n_jobs=1, penalty='none', power_t=0.7777777777777777, random_state=None, tol=0.0001))], verbose=False)), ('3', Pipeline(memory=None, steps=[('sparsenormalizer', Normalizer(copy=True, norm='l2')), ('xgboostclassifier', XGBoostClassifier(booster='gbtree', colsample_bytree=0.7, eta=0.01, gamma=0.01, max_depth=7, max_leaves=31, n_estimators=10, n_jobs=1, objective='reg:logistic', problem_info=ProblemInfo(gpu_training_param_dict={'processing_unit_type': 'cpu'}), random_state=0, reg_alpha=2.1875, reg_lambda=1.0416666666666667, subsample=1, tree_method='auto'))], verbose=False))], flatten_transform=None, weights=[0.09090909090909091, 0.09090909090909091, 0.09090909090909091, 0.09090909090909091, 0.09090909090909091, 0.18181818181818182, 0.09090909090909091, 0.09090909090909091, 0.18181818181818182]))],\n",
      "         verbose=False)\n"
     ]
    }
   ],
   "source": [
    "print(model)"
   ]
  },
  {
   "cell_type": "code",
   "execution_count": 49,
   "metadata": {},
   "outputs": [
    {
     "name": "stdout",
     "output_type": "stream",
     "text": [
      "Run(Experiment: automl,\n",
      "Id: AutoML_b758f7f2-c89e-4c95-a80e-f034cbc4397f_22,\n",
      "Type: azureml.scriptrun,\n",
      "Status: Completed)\n"
     ]
    }
   ],
   "source": [
    "print(best_model)"
   ]
  },
  {
   "cell_type": "code",
   "execution_count": 50,
   "metadata": {},
   "outputs": [
    {
     "data": {
      "text/plain": [
       "{'experiment_status': ['DatasetEvaluation',\n",
       "  'FeaturesGeneration',\n",
       "  'DatasetFeaturization',\n",
       "  'DatasetFeaturizationCompleted',\n",
       "  'DatasetCrossValidationSplit',\n",
       "  'ModelSelection',\n",
       "  'BestRunExplainModel',\n",
       "  'ModelExplanationDataSetSetup',\n",
       "  'PickSurrogateModel',\n",
       "  'EngineeredFeatureExplanations',\n",
       "  'EngineeredFeatureExplanations',\n",
       "  'RawFeaturesExplanations',\n",
       "  'RawFeaturesExplanations',\n",
       "  'BestRunExplainModel'],\n",
       " 'experiment_status_description': ['Gathering dataset statistics.',\n",
       "  'Generating features for the dataset.',\n",
       "  'Beginning to fit featurizers and featurize the dataset.',\n",
       "  'Completed fit featurizers and featurizing the dataset.',\n",
       "  'Generating individually featurized CV splits.',\n",
       "  'Beginning model selection.',\n",
       "  'Best run model explanations started',\n",
       "  'Model explanations data setup completed',\n",
       "  'Choosing LightGBM as the surrogate model for explanations',\n",
       "  'Computation of engineered features started',\n",
       "  'Computation of engineered features completed',\n",
       "  'Computation of raw features started',\n",
       "  'Computation of raw features completed',\n",
       "  'Best run model explanations completed'],\n",
       " 'matthews_correlation': 0.512702373578805,\n",
       " 'AUC_weighted': 0.8381527662276721,\n",
       " 'average_precision_score_macro': 0.8178696574747437,\n",
       " 'balanced_accuracy': 0.7439080598345715,\n",
       " 'average_precision_score_weighted': 0.8474075662713687,\n",
       " 'f1_score_micro': 0.7864952041422629,\n",
       " 'recall_score_macro': 0.7439080598345715,\n",
       " 'accuracy': 0.7864952041422629,\n",
       " 'average_precision_score_micro': 0.8576296454156462,\n",
       " 'weighted_accuracy': 0.819969798589846,\n",
       " 'precision_score_weighted': 0.7851944778299144,\n",
       " 'AUC_macro': 0.8381527662276721,\n",
       " 'norm_macro_recall': 0.48781611966914296,\n",
       " 'precision_score_macro': 0.7697888288685548,\n",
       " 'recall_score_weighted': 0.7864952041422629,\n",
       " 'AUC_micro': 0.8573569822966908,\n",
       " 'precision_score_micro': 0.7864952041422629,\n",
       " 'log_loss': 0.4985307176656496,\n",
       " 'f1_score_macro': 0.7510820643109485,\n",
       " 'recall_score_micro': 0.7864952041422629,\n",
       " 'f1_score_weighted': 0.7809235909672064}"
      ]
     },
     "execution_count": 50,
     "metadata": {},
     "output_type": "execute_result"
    }
   ],
   "source": [
    "remote_run.get_metrics()"
   ]
  },
  {
   "cell_type": "markdown",
   "metadata": {},
   "source": [
    "## Model Deployment\n",
    "\n",
    "Remember you have to deploy only one of the two models you trained.. Perform the steps in the rest of this notebook only if you wish to deploy this model.\n",
    "\n",
    "In the cell below, we have registered the model, created an inference config and deployed the model as a web service."
   ]
  },
  {
   "cell_type": "code",
   "execution_count": 51,
   "metadata": {
    "gather": {
     "logged": 1598431435189
    },
    "jupyter": {
     "outputs_hidden": false,
     "source_hidden": false
    },
    "nteract": {
     "transient": {
      "deleting": false
     }
    }
   },
   "outputs": [],
   "source": [
    "# Registring the best model\n",
    "model = best_model.register_model(model_name='automl-best-model',model_path='outputs/model.pkl')\n"
   ]
  },
  {
   "cell_type": "code",
   "execution_count": 52,
   "metadata": {},
   "outputs": [],
   "source": [
    "# Get automl environment with its dependencies\n",
    "environment = Environment.get(ws, \"AzureML-AutoML\")"
   ]
  },
  {
   "cell_type": "code",
   "execution_count": 53,
   "metadata": {},
   "outputs": [
    {
     "name": "stdout",
     "output_type": "stream",
     "text": [
      "Tips: You can try get_logs(): https://aka.ms/debugimage#dockerlog or local deployment: https://aka.ms/debugimage#debug-locally to debug if deployment takes longer than 10 minutes.\n",
      "Running\n",
      "2023-01-13 14:59:46+00:00 Creating Container Registry if not exists.\n",
      "2023-01-13 14:59:46+00:00 Registering the environment.\n",
      "2023-01-13 14:59:47+00:00 Use the existing image.\n",
      "2023-01-13 14:59:48+00:00 Submitting deployment to compute.\n",
      "2023-01-13 14:59:49+00:00 Checking the status of deployment automl-deploy..\n",
      "2023-01-13 15:11:12+00:00 Checking the status of inference endpoint automl-deploy.\n",
      "Succeeded\n",
      "ACI service creation operation finished, operation \"Succeeded\"\n",
      "http://47e9c2e8-f544-4cd3-a0f7-854500eab296.southcentralus.azurecontainer.io/score\n"
     ]
    }
   ],
   "source": [
    "inference_config = InferenceConfig(entry_script='scoring.py',\n",
    "                                   environment=environment)\n",
    "service_name = 'automl-deploy'\n",
    "deployment_config = AciWebservice.deploy_configuration(cpu_cores=1, memory_gb=1)\n",
    "\n",
    "service = Model.deploy(workspace=ws,\n",
    "                       name=service_name,\n",
    "                       models=[model],\n",
    "                       inference_config=inference_config,\n",
    "                       deployment_config=deployment_config,\n",
    "                       overwrite=True\n",
    "                      )\n",
    "service.wait_for_deployment(show_output=True)\n",
    "\n",
    "scoring_uri = service.scoring_uri\n",
    "print(scoring_uri)"
   ]
  },
  {
   "cell_type": "code",
   "execution_count": 54,
   "metadata": {},
   "outputs": [],
   "source": [
    "# Enable app insights\n",
    "service.update(enable_app_insights=True)"
   ]
  },
  {
   "cell_type": "markdown",
   "metadata": {
    "gather": {
     "logged": 1598431657736
    },
    "jupyter": {
     "outputs_hidden": false,
     "source_hidden": false
    },
    "nteract": {
     "transient": {
      "deleting": false
     }
    }
   },
   "source": [
    "In the cell below, we have sent a request to the web service to test it."
   ]
  },
  {
   "cell_type": "code",
   "execution_count": 60,
   "metadata": {},
   "outputs": [
    {
     "name": "stdout",
     "output_type": "stream",
     "text": [
      "{\"result\": [1, 0]}\n",
      "Case 0: Not Diabetes, Case 1: Diabetes.\n"
     ]
    }
   ],
   "source": [
    "import requests\n",
    "import json\n",
    "\n",
    "#two set of data to score, so we get two results back\n",
    "data = {\"data\": [{\"Pregnancies\": 5, \n",
    "     \"Glucose\": 150, \n",
    "     \"BloodPressure\": 70, \n",
    "     \"SkinThickness\": 40, \n",
    "     \"Insulin\": 10, \n",
    "     \"BMI\": 36.5, \n",
    "     \"DiabetesPedigreeFunction\": 0.627, \n",
    "     \"Age\": 30},\n",
    "\n",
    "    {\"Pregnancies\": 5, \n",
    "     \"Glucose\": 90, \n",
    "     \"BloodPressure\": 70, \n",
    "     \"SkinThickness\": 34, \n",
    "     \"Insulin\": 20, \n",
    "     \"BMI\": 26.5, \n",
    "     \"DiabetesPedigreeFunction\": 0.351, \n",
    "     \"Age\": 28},\n",
    "      ]}\n",
    "    \n",
    "# Convert to JSON string\n",
    "input_data = json.dumps(data)\n",
    "with open(\"data.json\", \"w\") as _f:\n",
    "    _f.write(input_data)\n",
    "\n",
    "# Set the content type\n",
    "headers = {'Content-Type': 'application/json'}\n",
    "# If authentication is enabled, set the authorization header\n",
    "#headers['Authorization'] = f'Bearer {key}'\n",
    "\n",
    "# Make the request and display the response\n",
    "resp = requests.post(scoring_uri, input_data, headers=headers)\n",
    "print(resp.json())\n",
    "print(\"Case 0: Not Diabetes, Case 1: Diabetes.\")"
   ]
  },
  {
   "cell_type": "code",
   "execution_count": 61,
   "metadata": {},
   "outputs": [
    {
     "name": "stdout",
     "output_type": "stream",
     "text": [
      "[{'Pregnancies': 5, 'Glucose': 150, 'BloodPressure': 70, 'SkinThickness': 40, 'Insulin': 10, 'BMI': 36.5, 'DiabetesPedigreeFunction': 0.627, 'Age': 30}, {'Pregnancies': 5, 'Glucose': 90, 'BloodPressure': 70, 'SkinThickness': 34, 'Insulin': 20, 'BMI': 26.5, 'DiabetesPedigreeFunction': 0.351, 'Age': 28}]\n"
     ]
    }
   ],
   "source": [
    "data = [{\"Pregnancies\": 5, \n",
    "     \"Glucose\": 150, \n",
    "     \"BloodPressure\": 70, \n",
    "     \"SkinThickness\": 40, \n",
    "     \"Insulin\": 10, \n",
    "     \"BMI\": 36.5, \n",
    "     \"DiabetesPedigreeFunction\": 0.627, \n",
    "     \"Age\": 30},\n",
    "\n",
    "    {\"Pregnancies\": 5, \n",
    "     \"Glucose\": 90, \n",
    "     \"BloodPressure\": 70, \n",
    "     \"SkinThickness\": 34, \n",
    "     \"Insulin\": 20, \n",
    "     \"BMI\": 26.5, \n",
    "     \"DiabetesPedigreeFunction\": 0.351, \n",
    "     \"Age\": 28},\n",
    "      ]\n",
    "\n",
    "print(data)"
   ]
  },
  {
   "cell_type": "code",
   "execution_count": 62,
   "metadata": {},
   "outputs": [
    {
     "data": {
      "text/plain": [
       "'{\"result\": [1, 0]}'"
      ]
     },
     "execution_count": 62,
     "metadata": {},
     "output_type": "execute_result"
    }
   ],
   "source": [
    "# test using service instance\n",
    "input_data = json.dumps({\n",
    "    'data': data\n",
    "})\n",
    "\n",
    "output = service.run(input_data)\n",
    "output"
   ]
  },
  {
   "cell_type": "markdown",
   "metadata": {
    "gather": {
     "logged": 1598432765711
    },
    "jupyter": {
     "outputs_hidden": false,
     "source_hidden": false
    },
    "nteract": {
     "transient": {
      "deleting": false
     }
    }
   },
   "source": [
    "Print the logs of the web service and delete the service"
   ]
  },
  {
   "cell_type": "code",
   "execution_count": 23,
   "metadata": {
    "jupyter": {
     "outputs_hidden": false,
     "source_hidden": false
    },
    "nteract": {
     "transient": {
      "deleting": false
     }
    }
   },
   "outputs": [
    {
     "data": {
      "text/plain": [
       "'2023-01-13T13:48:56,454938536+00:00 - iot-server/run \\n2023-01-13T13:48:56,454923836+00:00 - rsyslog/run \\n2023-01-13T13:48:56,459866723+00:00 - gunicorn/run \\n2023-01-13T13:48:56,464466797+00:00 | gunicorn/run | \\n2023-01-13T13:48:56,466954891+00:00 | gunicorn/run | ###############################################\\n2023-01-13T13:48:56,473521739+00:00 | gunicorn/run | AzureML Container Runtime Information\\n2023-01-13T13:48:56,476085736+00:00 | gunicorn/run | ###############################################\\n2023-01-13T13:48:56,487377763+00:00 | gunicorn/run | \\n2023-01-13T13:48:56,489323437+00:00 | gunicorn/run | \\n2023-01-13T13:48:56,509301692+00:00 | gunicorn/run | AzureML image information: openmpi3.1.2-ubuntu18.04, Materializaton Build:20221129.v2\\n2023-01-13T13:48:56,512276505+00:00 | gunicorn/run | \\n2023-01-13T13:48:56,516714873+00:00 | gunicorn/run | \\n2023-01-13T13:48:56,518799151+00:00 | gunicorn/run | PATH environment variable: /azureml-envs/azureml_4ceb345e4e0a419c28b56298b234f6b5/bin:/opt/miniconda/bin:/usr/local/sbin:/usr/local/bin:/usr/sbin:/usr/bin:/sbin:/bin\\n2023-01-13T13:48:56,519646083+00:00 - nginx/run \\n2023-01-13T13:48:56,530985312+00:00 | gunicorn/run | PYTHONPATH environment variable: \\n2023-01-13T13:48:56,534073829+00:00 | gunicorn/run | \\n2023-01-13T13:48:56,537287051+00:00 | gunicorn/run | Pip Dependencies (before dynamic installation)\\n\\nEdgeHubConnectionString and IOTEDGE_IOTHUBHOSTNAME are not set. Exiting...\\n2023-01-13T13:48:58,052136643+00:00 - iot-server/finish 1 0\\n2023-01-13T13:48:58,057568148+00:00 - Exit code 1 is normal. Not restarting iot-server.\\nadal==1.2.7\\napplicationinsights==0.11.10\\nargcomplete==2.0.0\\narviz @ file:///home/conda/feedstock_root/build_artifacts/arviz_1666645025910/work\\nattrs==22.1.0\\nazure-common==1.1.28\\nazure-core==1.26.1\\nazure-graphrbac==0.61.1\\nazure-identity==1.12.0\\nazure-mgmt-authorization==3.0.0\\nazure-mgmt-containerregistry==10.0.0\\nazure-mgmt-core==1.3.2\\nazure-mgmt-keyvault==10.1.0\\nazure-mgmt-resource==21.2.1\\nazure-mgmt-storage==20.1.0\\nazure-storage-blob==12.13.0\\nazure-storage-queue==12.5.0\\nazureml-automl-core==1.48.0\\nazureml-automl-runtime==1.48.0.post1\\nazureml-core==1.48.0\\nazureml-dataprep==4.8.3\\nazureml-dataprep-native==38.0.0\\nazureml-dataprep-rslex==2.15.1\\nazureml-dataset-runtime==1.48.0\\nazureml-defaults==1.48.0\\nazureml-inference-server-http==0.7.7\\nazureml-interpret==1.48.0\\nazureml-mlflow==1.48.0\\nazureml-pipeline-core==1.48.0\\nazureml-responsibleai==1.48.0\\nazureml-telemetry==1.48.0\\nazureml-train-automl-client==1.48.0\\nazureml-train-automl-runtime==1.48.0\\nazureml-train-core==1.48.0\\nazureml-train-restclients-hyperdrive==1.48.0\\nazureml-training-tabular==1.48.0\\nbackcall==0.2.0\\nbackports.tempfile==1.0\\nbackports.weakref==1.0.post1\\nbcrypt==4.0.1\\nbokeh==2.4.3\\nboto==2.49.0\\nboto3 @ file:///home/conda/feedstock_root/build_artifacts/boto3_1602889982367/work\\nbotocore @ file:///home/conda/feedstock_root/build_artifacts/botocore_1602884371056/work\\nbrotlipy @ file:///home/conda/feedstock_root/build_artifacts/brotlipy_1648854164153/work\\ncachetools==5.2.0\\ncertifi==2022.12.7\\ncffi @ file:///home/conda/feedstock_root/build_artifacts/cffi_1625835301720/work\\ncftime @ file:///home/conda/feedstock_root/build_artifacts/cftime_1663606412550/work\\ncharset-normalizer==2.1.1\\nclick @ file:///home/conda/feedstock_root/build_artifacts/click_1645238117885/work\\ncloudpickle @ file:///home/conda/feedstock_root/build_artifacts/cloudpickle_1598400192773/work\\ncolorama @ file:///home/conda/feedstock_root/build_artifacts/colorama_1666700638685/work\\ncontextlib2==21.6.0\\nconvertdate @ file:///home/conda/feedstock_root/build_artifacts/convertdate_1642883757836/work\\ncryptography @ file:///home/conda/feedstock_root/build_artifacts/cryptography_1666563349571/work\\ncycler @ file:///home/conda/feedstock_root/build_artifacts/cycler_1635519461629/work\\nCython==0.29.17\\ndask==2021.6.0\\ndatabricks-cli==0.17.4\\ndataclasses==0.6\\ndebugpy==1.6.4\\ndecorator==5.1.1\\ndice-ml==0.9\\ndill==0.3.6\\ndistributed==2021.6.0\\ndistro==1.8.0\\ndocker==6.0.1\\ndotnetcore2==3.1.23\\neconml==0.14.0\\nentrypoints==0.4\\nephem @ file:///home/conda/feedstock_root/build_artifacts/ephem_1649637195901/work\\nerroranalysis==0.3.13\\nfairlearn==0.7.0\\nfbprophet @ file:///home/conda/feedstock_root/build_artifacts/fbprophet_1599365534439/work\\nfire==0.5.0\\nFlask==2.2.2\\nFlask-Cors==3.0.10\\nflatbuffers==22.12.6\\nfonttools @ file:///home/conda/feedstock_root/build_artifacts/fonttools_1666389892786/work\\nfsspec==2022.11.0\\ngensim==3.8.3\\ngitdb==4.0.10\\nGitPython==3.1.29\\ngoogle-api-core==2.11.0\\ngoogle-auth==2.15.0\\ngoogleapis-common-protos==1.57.0\\ngunicorn==20.1.0\\nh5py==3.7.0\\nHeapDict==1.0.1\\nholidays @ file:///home/conda/feedstock_root/build_artifacts/holidays_1595448845196/work\\nhumanfriendly==10.0\\nidna @ file:///home/conda/feedstock_root/build_artifacts/idna_1663625384323/work\\nimportlib-metadata @ file:///home/conda/feedstock_root/build_artifacts/importlib-metadata_1653252814274/work\\nimportlib-resources==5.10.1\\ninference-schema==1.5\\ninterpret-community==0.27.0\\ninterpret-core==0.2.7\\nipykernel==6.6.0\\nipython==7.34.0\\nisodate==0.6.1\\nitsdangerous==2.1.2\\njedi==0.18.2\\njeepney==0.8.0\\nJinja2==3.1.2\\njmespath @ file:///home/conda/feedstock_root/build_artifacts/jmespath_1589369830981/work\\njoblib @ file:///home/conda/feedstock_root/build_artifacts/joblib_1589548394565/work\\njsonpickle==2.2.0\\njsonschema==4.17.3\\njupyter-client==7.4.8\\njupyter-core==4.12.0\\nkeras2onnx==1.6.0\\nkiwisolver @ file:///home/conda/feedstock_root/build_artifacts/kiwisolver_1657953088445/work\\nknack==0.10.1\\nkorean-lunar-calendar @ file:///home/conda/feedstock_root/build_artifacts/korean_lunar_calendar_1663341251025/work\\nlightgbm==3.2.1\\nllvmlite==0.38.1\\nlocket==1.0.0\\nLunarCalendar==0.0.9\\nMarkupSafe==2.0.1\\nmatplotlib @ file:///home/conda/feedstock_root/build_artifacts/matplotlib-suite_1661439848456/work\\nmatplotlib-inline==0.1.6\\nml-wrappers==0.2.2\\nmlflow-skinny==1.30.0\\nmpi4py==3.1.3\\nmsal==1.20.0\\nmsal-extensions==1.0.0\\nmsgpack==1.0.4\\nmsrest==0.7.1\\nmsrestazure==0.6.4\\nmunkres==1.1.4\\nndg-httpsclient==0.5.1\\nnest-asyncio==1.5.6\\nnetCDF4 @ file:///home/conda/feedstock_root/build_artifacts/netcdf4_1663234155476/work\\nnetworkx==2.5\\nnimbusml==1.8.0\\nnumba==0.55.2\\nnumpy @ file:///home/conda/feedstock_root/build_artifacts/numpy_1649806299270/work\\noauthlib==3.2.2\\nonnx==1.12.0\\nonnxconverter-common==1.6.0\\nonnxmltools==1.4.1\\nonnxruntime==1.11.1\\nopencensus==0.11.0\\nopencensus-context==0.1.3\\nopencensus-ext-azure==1.1.7\\npackaging==21.3\\npandas==1.1.5\\nparamiko==2.12.0\\nparso==0.8.3\\npartd==1.3.0\\npathspec==0.10.3\\npatsy==0.5.3\\npexpect==4.8.0\\npickleshare==0.7.5\\nPillow @ file:///home/conda/feedstock_root/build_artifacts/pillow_1660385854171/work\\npkginfo==1.9.2\\npkgutil-resolve-name==1.3.10\\npmdarima==1.7.1\\nportalocker==2.6.0\\nprompt-toolkit==3.0.36\\nprotobuf==3.20.1\\npsutil @ file:///home/conda/feedstock_root/build_artifacts/psutil_1666155398032/work\\nptyprocess==0.7.0\\npy-cpuinfo==5.0.0\\npyarrow==9.0.0\\npyasn1==0.4.8\\npyasn1-modules==0.2.8\\npycparser @ file:///home/conda/feedstock_root/build_artifacts/pycparser_1636257122734/work\\nPygments==2.13.0\\nPyJWT==2.6.0\\nPyMeeus @ file:///home/conda/feedstock_root/build_artifacts/pymeeus_1670868433998/work\\nPyNaCl==1.5.0\\npyOpenSSL @ file:///home/conda/feedstock_root/build_artifacts/pyopenssl_1665350324128/work\\npyparsing @ file:///home/conda/feedstock_root/build_artifacts/pyparsing_1652235407899/work\\npyrsistent==0.19.2\\nPySocks @ file:///home/conda/feedstock_root/build_artifacts/pysocks_1648857264451/work\\npystan @ file:///home/conda/feedstock_root/build_artifacts/pystan_1598392733373/work\\npython-dateutil @ file:///home/conda/feedstock_root/build_artifacts/python-dateutil_1626286286081/work\\npytz @ file:///home/conda/feedstock_root/build_artifacts/pytz_1667391478166/work\\nPyYAML==6.0\\npyzmq==24.0.1\\nraiutils==0.2.0\\nrequests==2.28.1\\nrequests-oauthlib==1.3.1\\nresponsibleai==0.23.0\\nrsa==4.9\\ns3transfer @ file:///home/conda/feedstock_root/build_artifacts/s3transfer_1618355402893/work\\nscikit-learn==0.22.1\\nscipy==1.5.3\\nSecretStorage==3.3.3\\nsemver==2.13.0\\nsetuptools-git==1.2\\nshap==0.39.0\\nsix @ file:///home/conda/feedstock_root/build_artifacts/six_1620240208055/work\\nskl2onnx==1.4.9\\nsklearn-pandas==1.7.0\\nslicer==0.0.7\\nsmart-open==1.9.0\\nsmmap==5.0.0\\nsortedcontainers==2.4.0\\nsparse==0.13.0\\nsqlparse==0.4.3\\nstatsmodels==0.11.1\\ntabulate==0.9.0\\ntblib==1.7.0\\ntermcolor==2.1.1\\ntoolz==0.12.0\\ntornado==6.2\\ntqdm @ file:///home/conda/feedstock_root/build_artifacts/tqdm_1662214488106/work\\ntraitlets==5.7.1\\ntyping-extensions @ file:///home/conda/feedstock_root/build_artifacts/typing_extensions_1665144421445/work\\nunicodedata2 @ file:///home/conda/feedstock_root/build_artifacts/unicodedata2_1649111917568/work\\nurllib3 @ file:///home/conda/feedstock_root/build_artifacts/urllib3_1603125704209/work\\nwcwidth==0.2.5\\nwebsocket-client==1.4.2\\nWerkzeug==2.2.2\\nwrapt==1.12.1\\nxarray @ file:///home/conda/feedstock_root/build_artifacts/xarray_1639125986756/work\\nxarray-einstats @ file:///home/conda/feedstock_root/build_artifacts/xarray-einstats_1648967091347/work\\nxgboost==1.3.3\\nzict==2.2.0\\nzipp @ file:///home/conda/feedstock_root/build_artifacts/zipp_1669453021653/work\\n\\n2023-01-13T13:49:01,302099158+00:00 | gunicorn/run | \\n2023-01-13T13:49:01,309109323+00:00 | gunicorn/run | ###############################################\\n2023-01-13T13:49:01,311977232+00:00 | gunicorn/run | AzureML Inference Server\\n2023-01-13T13:49:01,315609769+00:00 | gunicorn/run | ###############################################\\n2023-01-13T13:49:01,317704548+00:00 | gunicorn/run | \\n2023-01-13T13:49:05,422059334+00:00 | gunicorn/run | Starting AzureML Inference Server HTTP.\\n\\nAzure ML Inferencing HTTP server v0.7.7\\n\\n\\nServer Settings\\n---------------\\nEntry Script Name: /var/azureml-app/main.py\\nModel Directory: /var/azureml-app/azureml-models/automl-best-model/2\\nWorker Count: 1\\nWorker Timeout (seconds): 300\\nServer Port: 31311\\nApplication Insights Enabled: false\\nApplication Insights Key: None\\nInferencing HTTP server version: azmlinfsrv/0.7.7\\nCORS for the specified origins: None\\n\\n\\nServer Routes\\n---------------\\nLiveness Probe: GET   127.0.0.1:31311/\\nScore:          POST  127.0.0.1:31311/score\\n\\nStarting gunicorn 20.1.0\\nListening at: http://0.0.0.0:31311 (72)\\nUsing worker: sync\\nBooting worker with pid: 137\\nInitializing logger\\n2023-01-13 13:49:08,733 | root | INFO | Starting up app insights client\\nlogging socket was found. logging is available.\\nlogging socket was found. logging is available.\\n2023-01-13 13:49:08,734 | root | INFO | Starting up app insight hooks\\n2023-01-13 13:49:12,177 | root | INFO | Found driver script at /var/azureml-app/main.py and the score script at /var/azureml-app/scoring.py\\n2023-01-13 13:49:12,178 | root | INFO | run() is decorated with @input_schema. Server will invoke it with the following arguments: data.\\n2023-01-13 13:49:12,178 | root | INFO | Invoking user\\'s init function\\ngenerated new fontManager\\nImporting plotly failed. Interactive plots will not work.\\n2023-01-13 13:49:40,224 | azureml.core | WARNING | Failure while loading azureml_run_type_providers. Failed to load entrypoint azureml.scriptrun = azureml.core.script_run:ScriptRun._from_run_dto with exception (urllib3 1.25.11 (/azureml-envs/azureml_4ceb345e4e0a419c28b56298b234f6b5/lib/python3.7/site-packages), Requirement.parse(\\'urllib3>=1.26.0\\'), {\\'docker\\'}).\\nFailure while loading azureml_run_type_providers. Failed to load entrypoint azureml.scriptrun = azureml.core.script_run:ScriptRun._from_run_dto with exception (urllib3 1.25.11 (/azureml-envs/azureml_4ceb345e4e0a419c28b56298b234f6b5/lib/python3.7/site-packages), Requirement.parse(\\'urllib3>=1.26.0\\'), {\\'docker\\'}).\\n2023-01-13 13:49:40,242 | azureml.core | WARNING | Failure while loading azureml_run_type_providers. Failed to load entrypoint azureml.PipelineRun = azureml.pipeline.core.run:PipelineRun._from_dto with exception (urllib3 1.25.11 (/azureml-envs/azureml_4ceb345e4e0a419c28b56298b234f6b5/lib/python3.7/site-packages), Requirement.parse(\\'urllib3>=1.26.0\\'), {\\'docker\\'}).\\nFailure while loading azureml_run_type_providers. Failed to load entrypoint azureml.PipelineRun = azureml.pipeline.core.run:PipelineRun._from_dto with exception (urllib3 1.25.11 (/azureml-envs/azureml_4ceb345e4e0a419c28b56298b234f6b5/lib/python3.7/site-packages), Requirement.parse(\\'urllib3>=1.26.0\\'), {\\'docker\\'}).\\n2023-01-13 13:49:40,261 | azureml.core | WARNING | Failure while loading azureml_run_type_providers. Failed to load entrypoint azureml.ReusedStepRun = azureml.pipeline.core.run:StepRun._from_reused_dto with exception (urllib3 1.25.11 (/azureml-envs/azureml_4ceb345e4e0a419c28b56298b234f6b5/lib/python3.7/site-packages), Requirement.parse(\\'urllib3>=1.26.0\\'), {\\'docker\\'}).\\nFailure while loading azureml_run_type_providers. Failed to load entrypoint azureml.ReusedStepRun = azureml.pipeline.core.run:StepRun._from_reused_dto with exception (urllib3 1.25.11 (/azureml-envs/azureml_4ceb345e4e0a419c28b56298b234f6b5/lib/python3.7/site-packages), Requirement.parse(\\'urllib3>=1.26.0\\'), {\\'docker\\'}).\\n2023-01-13 13:49:40,272 | azureml.core | WARNING | Failure while loading azureml_run_type_providers. Failed to load entrypoint azureml.StepRun = azureml.pipeline.core.run:StepRun._from_dto with exception (urllib3 1.25.11 (/azureml-envs/azureml_4ceb345e4e0a419c28b56298b234f6b5/lib/python3.7/site-packages), Requirement.parse(\\'urllib3>=1.26.0\\'), {\\'docker\\'}).\\nFailure while loading azureml_run_type_providers. Failed to load entrypoint azureml.StepRun = azureml.pipeline.core.run:StepRun._from_dto with exception (urllib3 1.25.11 (/azureml-envs/azureml_4ceb345e4e0a419c28b56298b234f6b5/lib/python3.7/site-packages), Requirement.parse(\\'urllib3>=1.26.0\\'), {\\'docker\\'}).\\n2023-01-13 13:49:40,431 | azureml.core | WARNING | Failure while loading azureml_run_type_providers. Failed to load entrypoint automl = azureml.train.automl.run:AutoMLRun._from_run_dto with exception (azure-identity 1.12.0 (/azureml-envs/azureml_4ceb345e4e0a419c28b56298b234f6b5/lib/python3.7/site-packages), Requirement.parse(\\'azure-identity==1.7.0\\'), {\\'azureml-dataprep\\'}).\\nFailure while loading azureml_run_type_providers. Failed to load entrypoint automl = azureml.train.automl.run:AutoMLRun._from_run_dto with exception (azure-identity 1.12.0 (/azureml-envs/azureml_4ceb345e4e0a419c28b56298b234f6b5/lib/python3.7/site-packages), Requirement.parse(\\'azure-identity==1.7.0\\'), {\\'azureml-dataprep\\'}).\\n2023-01-13 13:49:40,452 | azureml.core | WARNING | Failure while loading azureml_run_type_providers. Failed to load entrypoint hyperdrive = azureml.train.hyperdrive:HyperDriveRun._from_run_dto with exception (urllib3 1.25.11 (/azureml-envs/azureml_4ceb345e4e0a419c28b56298b234f6b5/lib/python3.7/site-packages), Requirement.parse(\\'urllib3>=1.26.0\\'), {\\'docker\\'}).\\nFailure while loading azureml_run_type_providers. Failed to load entrypoint hyperdrive = azureml.train.hyperdrive:HyperDriveRun._from_run_dto with exception (urllib3 1.25.11 (/azureml-envs/azureml_4ceb345e4e0a419c28b56298b234f6b5/lib/python3.7/site-packages), Requirement.parse(\\'urllib3>=1.26.0\\'), {\\'docker\\'}).\\n2023-01-13 13:49:44,666 | root | INFO | Users\\'s init has completed successfully\\n2023-01-13 13:49:44,691 | root | INFO | Swaggers are prepared for the following versions: [2, 3].\\n2023-01-13 13:49:44,693 | root | INFO | Scoring timeout is found from os.environ: 60000 ms\\n2023-01-13 13:49:44,695 | root | INFO | AML_FLASK_ONE_COMPATIBILITY is set. Patched Flask to ensure compatibility with Flask 1.\\n2023-01-13 13:49:56,958 | root | INFO | 200\\n127.0.0.1 - - [13/Jan/2023:13:49:56 +0000] \"GET /swagger.json HTTP/1.0\" 200 3172 \"-\" \"Go-http-client/1.1\"\\n2023-01-13 13:49:58,488 | root | INFO | 200\\n127.0.0.1 - - [13/Jan/2023:13:49:58 +0000] \"GET /swagger.json HTTP/1.0\" 200 3172 \"-\" \"Go-http-client/1.1\"\\n2023-01-13 13:50:00,579 | root | INFO | 200\\n127.0.0.1 - - [13/Jan/2023:13:50:00 +0000] \"GET /swagger.json HTTP/1.0\" 200 3172 \"-\" \"Go-http-client/1.1\"\\n2023-01-13 13:50:00,914 | root | INFO | 200\\n127.0.0.1 - - [13/Jan/2023:13:50:00 +0000] \"POST /score HTTP/1.0\" 200 22 \"-\" \"python-requests/2.28.1\"\\n2023-01-13 13:50:01,034 | root | INFO | 200\\n127.0.0.1 - - [13/Jan/2023:13:50:01 +0000] \"POST /score HTTP/1.0\" 200 22 \"-\" \"python-requests/2.28.1\"\\n'"
      ]
     },
     "execution_count": 23,
     "metadata": {},
     "output_type": "execute_result"
    }
   ],
   "source": [
    "logs = service.get_logs()\n",
    "logs"
   ]
  },
  {
   "cell_type": "code",
   "execution_count": 63,
   "metadata": {},
   "outputs": [],
   "source": [
    "service.delete()"
   ]
  },
  {
   "cell_type": "code",
   "execution_count": null,
   "metadata": {},
   "outputs": [],
   "source": []
  },
  {
   "cell_type": "code",
   "execution_count": null,
   "metadata": {},
   "outputs": [],
   "source": []
  }
 ],
 "metadata": {
  "kernel_info": {
   "name": "python3"
  },
  "kernelspec": {
   "display_name": "Python 3 (ipykernel)",
   "language": "python",
   "name": "python3"
  },
  "language_info": {
   "codemirror_mode": {
    "name": "ipython",
    "version": 3
   },
   "file_extension": ".py",
   "mimetype": "text/x-python",
   "name": "python",
   "nbconvert_exporter": "python",
   "pygments_lexer": "ipython3",
   "version": "3.8.5"
  },
  "nteract": {
   "version": "nteract-front-end@1.0.0"
  }
 },
 "nbformat": 4,
 "nbformat_minor": 4
}
